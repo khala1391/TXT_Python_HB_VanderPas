{
 "cells": [
  {
   "cell_type": "markdown",
   "id": "78600f53-4876-499a-b935-b19b60b486fc",
   "metadata": {
    "panel-layout": {
     "height": 102.22917175292969,
     "visible": true,
     "width": 100
    }
   },
   "source": [
    "## Chapter19: Combining Datasets: merge and join"
   ]
  },
  {
   "cell_type": "markdown",
   "id": "fff00d05-a66e-4d06-9a46-f1dbaa57f1e6",
   "metadata": {
    "panel-layout": {
     "height": 151.47918701171875,
     "visible": true,
     "width": 100
    }
   },
   "source": [
    "---\n",
    "* Author:  [Yuttapong Mahasittiwat](mailto:khala1391@gmail.com)\n",
    "* Technologist | Data Modeler | Data Analyst\n",
    "* [YouTube](https://www.youtube.com/khala1391)\n",
    "* [LinkedIn](https://www.linkedin.com/in/yuttapong-m/)\n",
    "---"
   ]
  },
  {
   "cell_type": "markdown",
   "id": "af1c295b-6121-41f4-af08-4f7adcd5b1cc",
   "metadata": {
    "panel-layout": {
     "height": 68.27083587646484,
     "visible": true,
     "width": 100
    }
   },
   "source": [
    "Source: [**Python Data Science Handbook** by **VanderPlas**](https://jakevdp.github.io/PythonDataScienceHandbook/)"
   ]
  },
  {
   "cell_type": "code",
   "execution_count": 1,
   "id": "e98e2ee5-6195-473c-940f-457ba91930a9",
   "metadata": {
    "panel-layout": {
     "height": 0,
     "visible": true,
     "width": 100
    }
   },
   "outputs": [
    {
     "name": "stdout",
     "output_type": "stream",
     "text": [
      "numpy version : 1.26.4\n",
      "pandas version : 2.2.1\n"
     ]
    }
   ],
   "source": [
    "import numpy as np\n",
    "import pandas as pd\n",
    "print(\"numpy version :\",np.__version__)\n",
    "print(\"pandas version :\",pd.__version__)"
   ]
  },
  {
   "cell_type": "code",
   "execution_count": 145,
   "id": "f01ee142-d450-4565-b110-0dd7b506b407",
   "metadata": {},
   "outputs": [],
   "source": [
    "class display(object):\n",
    "    \"\"\"Display HTML representation of multiple objects\"\"\"\n",
    "    template = \"\"\"<div style=\"float: left; padding: 10px;\">\n",
    "    <p style='font-family:\"Courier New\", Courier, monospace'>{0}{1}\n",
    "    \"\"\"\n",
    "    def __init__(self, *args):\n",
    "        self.args = args\n",
    "        \n",
    "    def _repr_html_(self):\n",
    "        return '\\n'.join(self.template.format(a, eval(a)._repr_html_())\n",
    "                         for a in self.args)\n",
    "        \n",
    "    def __repr__(self):\n",
    "        return '\\n\\n'.join(a + '\\n' + repr(eval(a))\n",
    "                           for a in self.args)"
   ]
  },
  {
   "cell_type": "markdown",
   "id": "9b24fe4a-9e38-4666-97c5-8008a1e976ad",
   "metadata": {
    "panel-layout": {
     "height": 50.8125,
     "visible": true,
     "width": 100
    }
   },
   "source": [
    "## Relational Algebra"
   ]
  },
  {
   "cell_type": "code",
   "execution_count": null,
   "id": "3c50c733-6408-4b00-a3a2-e5a3b5f7e7f7",
   "metadata": {},
   "outputs": [],
   "source": []
  },
  {
   "cell_type": "code",
   "execution_count": null,
   "id": "77239a94-795f-4930-bc70-52dd81dcdaec",
   "metadata": {},
   "outputs": [],
   "source": []
  },
  {
   "cell_type": "markdown",
   "id": "49329d27-2cc0-48fd-8a16-34093f7844a8",
   "metadata": {
    "panel-layout": {
     "height": 50.8125,
     "visible": true,
     "width": 100
    }
   },
   "source": [
    "## Categories of Joins"
   ]
  },
  {
   "cell_type": "markdown",
   "id": "1716f00d-3414-4a0a-aedc-37929035abbc",
   "metadata": {},
   "source": [
    "### One-to-One Joins"
   ]
  },
  {
   "cell_type": "code",
   "execution_count": null,
   "id": "a649a20d-bf02-4d97-aec9-ddf2f17bc844",
   "metadata": {},
   "outputs": [],
   "source": []
  },
  {
   "cell_type": "code",
   "execution_count": null,
   "id": "f59e8b8b-3fca-479c-b9ea-3d891e459633",
   "metadata": {},
   "outputs": [],
   "source": []
  },
  {
   "cell_type": "markdown",
   "id": "a6c0da49-2ed5-49a9-8bec-1f700b1f25aa",
   "metadata": {},
   "source": [
    "### Many-to-One Joins"
   ]
  },
  {
   "cell_type": "code",
   "execution_count": null,
   "id": "3c0ed0d9-3235-44b4-bc62-e4a7e444ef7d",
   "metadata": {},
   "outputs": [],
   "source": []
  },
  {
   "cell_type": "code",
   "execution_count": null,
   "id": "90c641d2-5326-4417-b58a-43144a044cc9",
   "metadata": {},
   "outputs": [],
   "source": []
  },
  {
   "cell_type": "markdown",
   "id": "aaacf624-c2b7-42eb-8bc1-adb7104cc50b",
   "metadata": {},
   "source": [
    "### Many-to_Many Joins"
   ]
  },
  {
   "cell_type": "code",
   "execution_count": null,
   "id": "f45c60c9-c6b6-4ff8-b05a-80921f5dad70",
   "metadata": {},
   "outputs": [],
   "source": []
  },
  {
   "cell_type": "code",
   "execution_count": null,
   "id": "7f0cad6a-a119-41d3-bc4f-583cbe021809",
   "metadata": {},
   "outputs": [],
   "source": []
  },
  {
   "cell_type": "markdown",
   "id": "27cc5613-8f94-41a1-9acd-49eb9576e967",
   "metadata": {
    "panel-layout": {
     "height": 50.8125,
     "visible": true,
     "width": 100
    }
   },
   "source": [
    "## Specification of Merge Key"
   ]
  },
  {
   "cell_type": "markdown",
   "id": "59033554-09ae-4ead-8744-e6f43c889d78",
   "metadata": {},
   "source": [
    "### the on Keyword"
   ]
  },
  {
   "cell_type": "code",
   "execution_count": null,
   "id": "efd6987b-b25b-4b1d-9114-ba803fc2d69c",
   "metadata": {},
   "outputs": [],
   "source": []
  },
  {
   "cell_type": "code",
   "execution_count": null,
   "id": "9d52b68b-f3a7-40a9-b4d7-5bd2a173c108",
   "metadata": {},
   "outputs": [],
   "source": []
  },
  {
   "cell_type": "markdown",
   "id": "2c9675eb-1019-428b-a7f8-4e1838cac2c6",
   "metadata": {},
   "source": [
    "### the left_on and right_on Keyword"
   ]
  },
  {
   "cell_type": "code",
   "execution_count": null,
   "id": "e9fcfefc-8034-4b8e-a253-2d80df7ebb48",
   "metadata": {},
   "outputs": [],
   "source": []
  },
  {
   "cell_type": "code",
   "execution_count": null,
   "id": "3894ea2d-667c-46f0-ac84-f922f1bcb60e",
   "metadata": {},
   "outputs": [],
   "source": []
  },
  {
   "cell_type": "markdown",
   "id": "fde7d68c-96cc-447c-8f7b-8be732f0e3de",
   "metadata": {},
   "source": [
    "### the left_index and right_index Keyword"
   ]
  },
  {
   "cell_type": "code",
   "execution_count": null,
   "id": "44dde50d-aaa8-4ef5-9361-c87861ae8ccd",
   "metadata": {},
   "outputs": [],
   "source": []
  },
  {
   "cell_type": "code",
   "execution_count": null,
   "id": "084c25f5-41b2-401c-81a3-2d38a27bceb7",
   "metadata": {},
   "outputs": [],
   "source": []
  },
  {
   "cell_type": "markdown",
   "id": "c2fba09c-7640-46fe-9695-5e91b7843222",
   "metadata": {
    "panel-layout": {
     "height": 50.8125,
     "visible": true,
     "width": 100
    }
   },
   "source": [
    "## Specify set arithmetic for Joins"
   ]
  },
  {
   "cell_type": "code",
   "execution_count": null,
   "id": "8c95d04e-ce5b-4e89-9fee-bb7ee79be67f",
   "metadata": {},
   "outputs": [],
   "source": []
  },
  {
   "cell_type": "code",
   "execution_count": null,
   "id": "d6456770-a649-49f7-97e2-0f11e5a1bc86",
   "metadata": {},
   "outputs": [],
   "source": []
  },
  {
   "cell_type": "markdown",
   "id": "ed7a3f35-1c7d-42d1-9ee0-91c42826b38f",
   "metadata": {
    "panel-layout": {
     "height": 50.8125,
     "visible": true,
     "width": 100
    }
   },
   "source": [
    "## Overlapping Column Names: Suffix Keyword"
   ]
  },
  {
   "cell_type": "code",
   "execution_count": null,
   "id": "18009a51-56a6-4bc8-aa07-4d7969b94da9",
   "metadata": {},
   "outputs": [],
   "source": []
  },
  {
   "cell_type": "code",
   "execution_count": null,
   "id": "eb795b22-99b9-452a-b3a8-27a945c1d1de",
   "metadata": {},
   "outputs": [],
   "source": []
  },
  {
   "cell_type": "markdown",
   "id": "7ef2d409-0e6f-4fc8-b048-820baec8c0f1",
   "metadata": {
    "panel-layout": {
     "height": 50.8125,
     "visible": true,
     "width": 100
    }
   },
   "source": [
    "## Example: US States Data"
   ]
  },
  {
   "cell_type": "code",
   "execution_count": null,
   "id": "6c0e031a-9f48-4a91-a9fa-8bad2f3051e4",
   "metadata": {},
   "outputs": [],
   "source": []
  },
  {
   "cell_type": "code",
   "execution_count": null,
   "id": "9b70758a-25ff-4db3-9899-f5fcedfbf49f",
   "metadata": {},
   "outputs": [],
   "source": []
  }
 ],
 "metadata": {
  "kernelspec": {
   "display_name": "Python 3 (ipykernel)",
   "language": "python",
   "name": "python3"
  },
  "language_info": {
   "codemirror_mode": {
    "name": "ipython",
    "version": 3
   },
   "file_extension": ".py",
   "mimetype": "text/x-python",
   "name": "python",
   "nbconvert_exporter": "python",
   "pygments_lexer": "ipython3",
   "version": "3.11.9"
  },
  "panel-cell-order": [
   "78600f53-4876-499a-b935-b19b60b486fc",
   "fff00d05-a66e-4d06-9a46-f1dbaa57f1e6",
   "af1c295b-6121-41f4-af08-4f7adcd5b1cc",
   "e98e2ee5-6195-473c-940f-457ba91930a9",
   "9b24fe4a-9e38-4666-97c5-8008a1e976ad",
   "49329d27-2cc0-48fd-8a16-34093f7844a8",
   "27cc5613-8f94-41a1-9acd-49eb9576e967",
   "c2fba09c-7640-46fe-9695-5e91b7843222",
   "ed7a3f35-1c7d-42d1-9ee0-91c42826b38f"
  ]
 },
 "nbformat": 4,
 "nbformat_minor": 5
}
