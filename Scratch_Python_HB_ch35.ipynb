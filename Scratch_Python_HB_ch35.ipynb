{
 "cells": [
  {
   "cell_type": "markdown",
   "id": "78600f53-4876-499a-b935-b19b60b486fc",
   "metadata": {},
   "source": [
    "## Chapter35: 3D Plotting in Matplotlib"
   ]
  },
  {
   "cell_type": "markdown",
   "id": "fff00d05-a66e-4d06-9a46-f1dbaa57f1e6",
   "metadata": {},
   "source": [
    "---\n",
    "* Author:  [Yuttapong Mahasittiwat](mailto:khala1391@gmail.com)\n",
    "* Technologist | Data Modeler | Data Analyst\n",
    "* [YouTube](https://www.youtube.com/khala1391)\n",
    "* [LinkedIn](https://www.linkedin.com/in/yuttapong-m/)\n",
    "---"
   ]
  },
  {
   "cell_type": "markdown",
   "id": "af1c295b-6121-41f4-af08-4f7adcd5b1cc",
   "metadata": {},
   "source": [
    "Source: [**Python Data Science Handbook** by **VanderPlas**](https://jakevdp.github.io/PythonDataScienceHandbook/)"
   ]
  },
  {
   "cell_type": "code",
   "execution_count": 2,
   "id": "e98e2ee5-6195-473c-940f-457ba91930a9",
   "metadata": {},
   "outputs": [
    {
     "name": "stdout",
     "output_type": "stream",
     "text": [
      "numpy version : 1.26.4\n",
      "pandas version : 2.2.1\n"
     ]
    }
   ],
   "source": [
    "import numpy as np\n",
    "import pandas as pd\n",
    "print(\"numpy version :\",np.__version__)\n",
    "print(\"pandas version :\",pd.__version__)"
   ]
  },
  {
   "cell_type": "markdown",
   "id": "9b24fe4a-9e38-4666-97c5-8008a1e976ad",
   "metadata": {},
   "source": [
    "## 3D Point and Lines"
   ]
  },
  {
   "cell_type": "code",
   "execution_count": null,
   "id": "3c50c733-6408-4b00-a3a2-e5a3b5f7e7f7",
   "metadata": {},
   "outputs": [],
   "source": []
  },
  {
   "cell_type": "code",
   "execution_count": null,
   "id": "77239a94-795f-4930-bc70-52dd81dcdaec",
   "metadata": {},
   "outputs": [],
   "source": []
  },
  {
   "cell_type": "markdown",
   "id": "49329d27-2cc0-48fd-8a16-34093f7844a8",
   "metadata": {},
   "source": [
    "## 3D Contour Plots"
   ]
  },
  {
   "cell_type": "code",
   "execution_count": null,
   "id": "1cbddc57-e356-4eae-9730-6f10fd83b4ff",
   "metadata": {},
   "outputs": [],
   "source": []
  },
  {
   "cell_type": "code",
   "execution_count": null,
   "id": "98bf49fe-0d50-4f25-8952-8221d4c5cc87",
   "metadata": {},
   "outputs": [],
   "source": []
  },
  {
   "cell_type": "markdown",
   "id": "27cc5613-8f94-41a1-9acd-49eb9576e967",
   "metadata": {},
   "source": [
    "## Wireframes and Surface Plots"
   ]
  },
  {
   "cell_type": "code",
   "execution_count": null,
   "id": "44dde50d-aaa8-4ef5-9361-c87861ae8ccd",
   "metadata": {},
   "outputs": [],
   "source": []
  },
  {
   "cell_type": "code",
   "execution_count": null,
   "id": "9847fed1-1b4a-400f-9f2f-104ffe185e49",
   "metadata": {},
   "outputs": [],
   "source": []
  },
  {
   "cell_type": "markdown",
   "id": "d3bb0983-ca5e-497a-b80b-629bd4b1e331",
   "metadata": {},
   "source": [
    "## Surface Triangulations"
   ]
  },
  {
   "cell_type": "code",
   "execution_count": null,
   "id": "5394960c-03d7-46d2-979e-9e698dbd60e0",
   "metadata": {},
   "outputs": [],
   "source": []
  },
  {
   "cell_type": "code",
   "execution_count": null,
   "id": "37bdf962-88f5-4240-9f01-efd8f7cffac5",
   "metadata": {},
   "outputs": [],
   "source": []
  },
  {
   "cell_type": "code",
   "execution_count": null,
   "id": "ad3ae0c9-e6f3-43fe-878c-eb7077950cd2",
   "metadata": {},
   "outputs": [],
   "source": []
  },
  {
   "cell_type": "markdown",
   "id": "08fd0dfe-4b08-4837-b1a9-1a45c3ababcd",
   "metadata": {},
   "source": [
    "## Example: Visualizing a Mobius Strip"
   ]
  },
  {
   "cell_type": "code",
   "execution_count": null,
   "id": "339183fa-c1f0-4ea6-9df1-6f30763d87ff",
   "metadata": {},
   "outputs": [],
   "source": []
  },
  {
   "cell_type": "code",
   "execution_count": null,
   "id": "cd172385-fe59-4714-ace5-5ffea21c6689",
   "metadata": {},
   "outputs": [],
   "source": []
  },
  {
   "cell_type": "code",
   "execution_count": null,
   "id": "0db068b4-12bf-4aff-a3d9-ede51cce151c",
   "metadata": {},
   "outputs": [],
   "source": []
  },
  {
   "cell_type": "code",
   "execution_count": null,
   "id": "03fa922a-6d38-444f-af6f-100ad9898c67",
   "metadata": {},
   "outputs": [],
   "source": []
  },
  {
   "cell_type": "code",
   "execution_count": null,
   "id": "084c25f5-41b2-401c-81a3-2d38a27bceb7",
   "metadata": {},
   "outputs": [],
   "source": []
  },
  {
   "cell_type": "code",
   "execution_count": null,
   "id": "8c95d04e-ce5b-4e89-9fee-bb7ee79be67f",
   "metadata": {},
   "outputs": [],
   "source": []
  },
  {
   "cell_type": "code",
   "execution_count": null,
   "id": "d6456770-a649-49f7-97e2-0f11e5a1bc86",
   "metadata": {},
   "outputs": [],
   "source": []
  },
  {
   "cell_type": "code",
   "execution_count": null,
   "id": "6c0e031a-9f48-4a91-a9fa-8bad2f3051e4",
   "metadata": {},
   "outputs": [],
   "source": []
  },
  {
   "cell_type": "code",
   "execution_count": null,
   "id": "9b70758a-25ff-4db3-9899-f5fcedfbf49f",
   "metadata": {},
   "outputs": [],
   "source": []
  },
  {
   "cell_type": "code",
   "execution_count": null,
   "id": "af19ee00-8489-43f1-b504-6f9c09d0740b",
   "metadata": {},
   "outputs": [],
   "source": []
  }
 ],
 "metadata": {
  "kernelspec": {
   "display_name": "Python 3 (ipykernel)",
   "language": "python",
   "name": "python3"
  },
  "language_info": {
   "codemirror_mode": {
    "name": "ipython",
    "version": 3
   },
   "file_extension": ".py",
   "mimetype": "text/x-python",
   "name": "python",
   "nbconvert_exporter": "python",
   "pygments_lexer": "ipython3",
   "version": "3.11.9"
  }
 },
 "nbformat": 4,
 "nbformat_minor": 5
}
