{
 "cells": [
  {
   "cell_type": "markdown",
   "id": "ba504050-b24b-481c-867c-2aa887d33146",
   "metadata": {},
   "source": [
    "## Chapter10: Fancy Indexing"
   ]
  },
  {
   "cell_type": "markdown",
   "id": "b6c5c5b0-847b-45de-8521-886cbf586818",
   "metadata": {},
   "source": [
    "---\n",
    "* Author:  [Yuttapong Mahasittiwat](mailto:khala1391@gmail.com)\n",
    "* Technologist | Data Modeler | Data Analyst\n",
    "* [YouTube](https://www.youtube.com/khala1391)\n",
    "* [LinkedIn](https://www.linkedin.com/in/yuttapong-m/)\n",
    "---"
   ]
  },
  {
   "cell_type": "markdown",
   "id": "f440abdd-f009-4533-af97-69956a10d902",
   "metadata": {},
   "source": [
    "### Exploring Fancy Indexing "
   ]
  },
  {
   "cell_type": "code",
   "execution_count": 1,
   "id": "1c009637-89f0-4f9b-a653-81e2126cfd8a",
   "metadata": {},
   "outputs": [
    {
     "data": {
      "text/plain": [
       "'1.26.4'"
      ]
     },
     "execution_count": 1,
     "metadata": {},
     "output_type": "execute_result"
    }
   ],
   "source": [
    "import numpy as np\n",
    "np.__version__"
   ]
  },
  {
   "cell_type": "code",
   "execution_count": 3,
   "id": "704b4bfc-6c65-4fcf-8658-c1216b3dc662",
   "metadata": {},
   "outputs": [
    {
     "data": {
      "text/plain": [
       "array([90, 40,  9, 30, 80, 67, 39, 15, 33, 79], dtype=int64)"
      ]
     },
     "execution_count": 3,
     "metadata": {},
     "output_type": "execute_result"
    }
   ],
   "source": [
    "rng = np.random.default_rng(seed=1701)\n",
    "x = rng.integers(100,size =10)\n",
    "x"
   ]
  },
  {
   "cell_type": "code",
   "execution_count": 4,
   "id": "de50e373-aa42-4f23-b74d-63a3bfa247a9",
   "metadata": {},
   "outputs": [
    {
     "data": {
      "text/plain": [
       "[30, 15, 9]"
      ]
     },
     "execution_count": 4,
     "metadata": {},
     "output_type": "execute_result"
    }
   ],
   "source": [
    "[x[3],x[7],x[2]]"
   ]
  },
  {
   "cell_type": "code",
   "execution_count": 7,
   "id": "cde88f72-8154-43f2-ad9c-336bcb1b6455",
   "metadata": {},
   "outputs": [
    {
     "data": {
      "text/plain": [
       "array([30, 15, 80], dtype=int64)"
      ]
     },
     "execution_count": 7,
     "metadata": {},
     "output_type": "execute_result"
    }
   ],
   "source": [
    "ind = [3,7,4]\n",
    "x[ind]"
   ]
  },
  {
   "cell_type": "code",
   "execution_count": 9,
   "id": "f7e4d255-025c-44f3-b4b5-82d577f92467",
   "metadata": {},
   "outputs": [
    {
     "data": {
      "text/plain": [
       "array([[30, 15],\n",
       "       [80, 67]], dtype=int64)"
      ]
     },
     "execution_count": 9,
     "metadata": {},
     "output_type": "execute_result"
    }
   ],
   "source": [
    "# shape reflect shape of index\n",
    "ind = np.array([[3,7],\n",
    "               [4,5]])\n",
    "x[ind]"
   ]
  },
  {
   "cell_type": "code",
   "execution_count": 11,
   "id": "f272f266-b833-425c-b7c0-e3ab3eb56ced",
   "metadata": {},
   "outputs": [
    {
     "data": {
      "text/plain": [
       "array([[ 0,  1,  2,  3],\n",
       "       [ 4,  5,  6,  7],\n",
       "       [ 8,  9, 10, 11]])"
      ]
     },
     "execution_count": 11,
     "metadata": {},
     "output_type": "execute_result"
    }
   ],
   "source": [
    "x = np.arange(12).reshape((3,4))\n",
    "x"
   ]
  },
  {
   "cell_type": "code",
   "execution_count": 13,
   "id": "65181079-623d-4556-b4a3-bc6e38f19994",
   "metadata": {},
   "outputs": [
    {
     "data": {
      "text/plain": [
       "array([ 2,  5, 11])"
      ]
     },
     "execution_count": 13,
     "metadata": {},
     "output_type": "execute_result"
    }
   ],
   "source": [
    "row = np.array([0,1,2])\n",
    "col = np.array([2,1,3])\n",
    "x[row,col]"
   ]
  },
  {
   "cell_type": "code",
   "execution_count": 15,
   "id": "8c0c6b44-1a57-49fd-ac85-29d19cec9ed6",
   "metadata": {},
   "outputs": [
    {
     "data": {
      "text/plain": [
       "array([[ 2,  1,  3],\n",
       "       [ 6,  5,  7],\n",
       "       [10,  9, 11]])"
      ]
     },
     "execution_count": 15,
     "metadata": {},
     "output_type": "execute_result"
    }
   ],
   "source": [
    "x[row[:,np.newaxis],col]"
   ]
  },
  {
   "cell_type": "code",
   "execution_count": 17,
   "id": "8d1b0166-cd57-4abc-8fc2-ab3c1f38700c",
   "metadata": {},
   "outputs": [
    {
     "data": {
      "text/plain": [
       "array([[0, 0, 0],\n",
       "       [2, 1, 3],\n",
       "       [4, 2, 6]])"
      ]
     },
     "execution_count": 17,
     "metadata": {},
     "output_type": "execute_result"
    }
   ],
   "source": [
    "# broadcasting\n",
    "row[:,np.newaxis]*col"
   ]
  },
  {
   "cell_type": "markdown",
   "id": "f5993673-82c0-4dcf-ab5c-df375265ee27",
   "metadata": {},
   "source": [
    "### combine indexing"
   ]
  },
  {
   "cell_type": "code",
   "execution_count": 20,
   "id": "901d7dc4-a7a2-4513-955e-0dc5762057fe",
   "metadata": {},
   "outputs": [
    {
     "name": "stdout",
     "output_type": "stream",
     "text": [
      "[[ 0  1  2  3]\n",
      " [ 4  5  6  7]\n",
      " [ 8  9 10 11]]\n"
     ]
    }
   ],
   "source": [
    "print(x)"
   ]
  },
  {
   "cell_type": "code",
   "execution_count": 22,
   "id": "a8b49446-cf81-4ff6-a594-c7e95bece7b6",
   "metadata": {},
   "outputs": [
    {
     "data": {
      "text/plain": [
       "array([10,  8,  9])"
      ]
     },
     "execution_count": 22,
     "metadata": {},
     "output_type": "execute_result"
    }
   ],
   "source": [
    "x[2,[2,0,1]]"
   ]
  },
  {
   "cell_type": "code",
   "execution_count": 24,
   "id": "9a7e7c8d-8e85-4a96-9744-0547113de26b",
   "metadata": {},
   "outputs": [
    {
     "data": {
      "text/plain": [
       "array([[ 6,  4,  5],\n",
       "       [10,  8,  9]])"
      ]
     },
     "execution_count": 24,
     "metadata": {},
     "output_type": "execute_result"
    }
   ],
   "source": [
    "x[1:,[2,0,1]]"
   ]
  },
  {
   "cell_type": "code",
   "execution_count": 26,
   "id": "09de60a2-6288-469a-b8bb-9c0eb09f67ee",
   "metadata": {},
   "outputs": [
    {
     "data": {
      "text/plain": [
       "array([[ 0,  2],\n",
       "       [ 4,  6],\n",
       "       [ 8, 10]])"
      ]
     },
     "execution_count": 26,
     "metadata": {},
     "output_type": "execute_result"
    }
   ],
   "source": [
    "# mask by true,false\n",
    "mask = np.array([True, False, True, False])\n",
    "x[row[:,np.newaxis],mask]"
   ]
  },
  {
   "cell_type": "markdown",
   "id": "8dba0bee-3945-41f4-a7d4-a505c893ce36",
   "metadata": {},
   "source": [
    "### example: selecting random points"
   ]
  },
  {
   "cell_type": "code",
   "execution_count": 29,
   "id": "abb8f7d5-0179-432a-a254-8e31b5970039",
   "metadata": {},
   "outputs": [
    {
     "data": {
      "text/plain": [
       "(100, 2)"
      ]
     },
     "execution_count": 29,
     "metadata": {},
     "output_type": "execute_result"
    }
   ],
   "source": [
    "mean = [0,0]\n",
    "cov = [[1,2],\n",
    "      [2,5]]\n",
    "x = rng.multivariate_normal(mean, cov,100)\n",
    "x.shape"
   ]
  },
  {
   "cell_type": "code",
   "execution_count": 31,
   "id": "be9fd4ea-85e9-4ed6-91de-14b0d8a55b88",
   "metadata": {},
   "outputs": [
    {
     "data": {
      "text/plain": [
       "array([[ 0.92376172,  3.86247383],\n",
       "       [ 0.66175153,  2.92566223],\n",
       "       [ 0.73098106,  2.44134086],\n",
       "       [-0.3297868 , -0.11668874],\n",
       "       [-0.30888759,  0.8743896 ],\n",
       "       [ 0.86013582,  1.64977873],\n",
       "       [ 1.12535005,  3.0797069 ],\n",
       "       [-1.15071385, -1.02441057],\n",
       "       [ 0.08527574, -0.90798038],\n",
       "       [ 0.7240915 ,  2.16337705]])"
      ]
     },
     "execution_count": 31,
     "metadata": {},
     "output_type": "execute_result"
    }
   ],
   "source": [
    "x[:10]"
   ]
  },
  {
   "cell_type": "code",
   "execution_count": 33,
   "id": "5bee4f16-7bbf-4c0c-859e-ebbd36cb4e6f",
   "metadata": {},
   "outputs": [],
   "source": [
    "import matplotlib.pyplot as plt\n",
    "plt.style.use('seaborn-v0_8-pastel')\n",
    "# plt.style.available"
   ]
  },
  {
   "cell_type": "code",
   "execution_count": 34,
   "id": "37ad2e45-5f73-43b9-b9c9-721217fc6c65",
   "metadata": {},
   "outputs": [
    {
     "data": {
      "text/plain": [
       "Text(0, 0.5, 'y var')"
      ]
     },
     "execution_count": 34,
     "metadata": {},
     "output_type": "execute_result"
    },
    {
     "data": {
      "image/png": "[encoded data removed]",
      "text/plain": [
       "<Figure size 400x300 with 1 Axes>"
      ]
     },
     "metadata": {},
     "output_type": "display_data"
    }
   ],
   "source": [
    "plt.figure(figsize=(4,3))\n",
    "plt.scatter(x[:,0],x[:,1])\n",
    "plt.grid(visible=True)\n",
    "plt.xlabel('x var')\n",
    "plt.ylabel('y var')\n",
    "# plt.*?"
   ]
  },
  {
   "cell_type": "code",
   "execution_count": 36,
   "id": "97afae17-31af-4711-863f-ee91fabb01a0",
   "metadata": {},
   "outputs": [
    {
     "data": {
      "text/plain": [
       "array([56, 50, 45, 40, 31,  3, 97, 85, 30, 48, 73, 78, 72, 63, 12, 60,  2,\n",
       "       75, 11, 18])"
      ]
     },
     "execution_count": 36,
     "metadata": {},
     "output_type": "execute_result"
    }
   ],
   "source": [
    "indices =  np.random.choice(x.shape[0],20, replace= False) # sampling without replacement\n",
    "indices"
   ]
  },
  {
   "cell_type": "code",
   "execution_count": 39,
   "id": "e57c71e0-3dde-491f-83b7-ab77b98984c3",
   "metadata": {},
   "outputs": [
    {
     "data": {
      "text/plain": [
       "(20, 2)"
      ]
     },
     "execution_count": 39,
     "metadata": {},
     "output_type": "execute_result"
    }
   ],
   "source": [
    "selection =  x[indices]  # fancy indexing here\n",
    "selection.shape"
   ]
  },
  {
   "cell_type": "code",
   "execution_count": 41,
   "id": "c8773464-b47f-4bd4-b6ff-c01a6a134baf",
   "metadata": {},
   "outputs": [
    {
     "data": {
      "text/plain": [
       "array([[ 2.79594472e+00,  6.33408633e+00],\n",
       "       [-5.34031981e-01, -5.85417619e-01],\n",
       "       [ 5.35190376e-01,  4.47966342e-01],\n",
       "       [ 7.19488278e-02,  7.02146349e-01],\n",
       "       [-5.91795754e-01,  1.91761015e+00],\n",
       "       [-3.29786797e-01, -1.16688738e-01],\n",
       "       [-5.23767992e-02, -5.80675479e-01],\n",
       "       [-2.57288282e-03, -3.39005109e-01],\n",
       "       [-1.42326788e+00, -2.72306289e+00],\n",
       "       [ 1.43891059e+00,  2.42258911e+00],\n",
       "       [ 8.17369954e-01,  1.94401318e+00],\n",
       "       [-1.26787248e+00, -1.74778269e+00],\n",
       "       [ 8.59854946e-01,  2.03652405e+00],\n",
       "       [ 2.23519164e+00,  4.33266160e+00],\n",
       "       [ 1.51379786e-01, -1.23549790e+00],\n",
       "       [-1.41393471e+00, -3.66357845e+00],\n",
       "       [ 7.30981058e-01,  2.44134086e+00],\n",
       "       [ 3.27979510e-01, -9.04223047e-01],\n",
       "       [-1.13766512e+00, -2.80758238e+00],\n",
       "       [-1.62415980e+00, -3.90121516e+00]])"
      ]
     },
     "execution_count": 41,
     "metadata": {},
     "output_type": "execute_result"
    }
   ],
   "source": [
    "x[indices,:]"
   ]
  },
  {
   "cell_type": "code",
   "execution_count": 43,
   "id": "7c7d557d-bee7-4202-b459-56cc0d5ef8a4",
   "metadata": {},
   "outputs": [
    {
     "data": {
      "text/plain": [
       "<matplotlib.collections.PathCollection at 0x1ba73d72390>"
      ]
     },
     "execution_count": 43,
     "metadata": {},
     "output_type": "execute_result"
    },
    {
     "data": {
      "image/png": "[encoded data removed]",
      "text/plain": [
       "<Figure size 640x480 with 1 Axes>"
      ]
     },
     "metadata": {},
     "output_type": "display_data"
    }
   ],
   "source": [
    "plt.scatter(x[:,0],x[:,1],alpha=0.5)\n",
    "plt.scatter(selection[:,0],selection[:,1],\n",
    "           facecolor = 'none',edgecolor='black', s=200)"
   ]
  },
  {
   "cell_type": "markdown",
   "id": "7d71b429-f954-4884-b33e-678d4586e687",
   "metadata": {},
   "source": [
    "### modifying value with fancy indexing"
   ]
  },
  {
   "cell_type": "code",
   "execution_count": 46,
   "id": "5dff539a-d775-40d5-8acf-82dc289e2240",
   "metadata": {},
   "outputs": [
    {
     "data": {
      "text/plain": [
       "array([ 0, 99, 99,  3, 99,  5,  6,  7, 99,  9])"
      ]
     },
     "execution_count": 46,
     "metadata": {},
     "output_type": "execute_result"
    }
   ],
   "source": [
    "x = np.arange(10)\n",
    "i = np.array([2,1,8,4])\n",
    "x[i]=99\n",
    "x"
   ]
  },
  {
   "cell_type": "code",
   "execution_count": 48,
   "id": "a4dc9bb7-4d4a-4e3c-bbf2-95d86edf354d",
   "metadata": {},
   "outputs": [
    {
     "data": {
      "text/plain": [
       "array([ 0, 89, 89,  3, 89,  5,  6,  7, 89,  9])"
      ]
     },
     "execution_count": 48,
     "metadata": {},
     "output_type": "execute_result"
    }
   ],
   "source": [
    "x[i] -= 10\n",
    "x"
   ]
  },
  {
   "cell_type": "code",
   "execution_count": 50,
   "id": "5958ae12-a29c-45c4-813f-7e12515800a4",
   "metadata": {},
   "outputs": [],
   "source": [
    "# confused case"
   ]
  },
  {
   "cell_type": "code",
   "execution_count": 52,
   "id": "b1ec633b-debb-4baa-beec-f6766f50f059",
   "metadata": {},
   "outputs": [
    {
     "data": {
      "text/plain": [
       "array([6., 0., 0., 0., 0., 0., 0., 0., 0., 0.])"
      ]
     },
     "execution_count": 52,
     "metadata": {},
     "output_type": "execute_result"
    }
   ],
   "source": [
    "x =np.zeros(10)\n",
    "x[[0,0]] = [4,6]\n",
    "x"
   ]
  },
  {
   "cell_type": "code",
   "execution_count": 54,
   "id": "0141435f-86df-4661-978b-846083c362dd",
   "metadata": {},
   "outputs": [
    {
     "data": {
      "text/plain": [
       "array([6., 0., 1., 1., 1., 0., 0., 0., 0., 0.])"
      ]
     },
     "execution_count": 54,
     "metadata": {},
     "output_type": "execute_result"
    }
   ],
   "source": [
    "i = [2,3,3,4,4,4]\n",
    "x[i] += 1\n",
    "x"
   ]
  },
  {
   "cell_type": "code",
   "execution_count": 56,
   "id": "4f9b8c10-a99d-4c5f-973d-b5f70cd64391",
   "metadata": {},
   "outputs": [
    {
     "name": "stdout",
     "output_type": "stream",
     "text": [
      "[0. 0. 1. 2. 3. 0. 0. 0. 0. 0.]\n"
     ]
    }
   ],
   "source": [
    "x = np.zeros(10)\n",
    "np.add.at(x,i,1)\n",
    "print(x)"
   ]
  },
  {
   "cell_type": "markdown",
   "id": "eaa7f70b-9ae9-4ef4-8478-322e7f6fe0d0",
   "metadata": {},
   "source": [
    "### example: binning data"
   ]
  },
  {
   "cell_type": "code",
   "execution_count": 59,
   "id": "cdcb6c53-67d7-4980-a757-e15bc9061312",
   "metadata": {},
   "outputs": [],
   "source": [
    "rng = np.random.default_rng(seed=1701)\n",
    "x = rng.normal(size=100)   # mean= 0, sd=1"
   ]
  },
  {
   "cell_type": "code",
   "execution_count": 61,
   "id": "4e7bd731-bbe4-477b-9c3b-6e71a653479b",
   "metadata": {},
   "outputs": [],
   "source": [
    "# compute histogram by hand\n",
    "bins = np.linspace(-5,5,20)\n",
    "counts = np.zeros_like(bins)  # create array with same size as input\n",
    "# np.zeros(20)\n",
    "# np.zeros(bins.shape[0])"
   ]
  },
  {
   "cell_type": "code",
   "execution_count": 63,
   "id": "db9478c5-34cb-411d-a251-d1b3c2eb8e86",
   "metadata": {},
   "outputs": [
    {
     "data": {
      "text/plain": [
       "array([11, 11, 11,  8, 11,  7, 13,  8, 12,  8, 11, 10, 11,  9, 13,  9,  9,\n",
       "        7, 11, 11, 13, 11,  8,  8, 11, 10, 13, 12, 10, 11,  7, 15, 10,  7,\n",
       "       14,  8,  9, 11, 11,  9, 10, 13, 10,  7, 13, 11, 11, 13, 11, 11,  9,\n",
       "        8, 12,  9,  8, 10, 11,  8, 11,  6,  8, 11,  8,  8, 11, 12, 11,  9,\n",
       "       16, 11, 11, 10, 11, 11, 13, 10,  7,  8, 11, 11,  7,  9,  9, 11, 12,\n",
       "        9, 11, 12, 14,  9, 11, 12, 10,  8, 10, 10,  9, 11,  8, 15],\n",
       "      dtype=int64)"
      ]
     },
     "execution_count": 63,
     "metadata": {},
     "output_type": "execute_result"
    }
   ],
   "source": [
    "# find appropriate bin for each x\n",
    "i = np.searchsorted(bins,x)\n",
    "i"
   ]
  },
  {
   "cell_type": "code",
   "execution_count": 65,
   "id": "d9694c6c-8d23-4a0a-8b07-452b0ad2bcb0",
   "metadata": {},
   "outputs": [
    {
     "data": {
      "text/plain": [
       "array([0., 0., 0., 0., 0., 0., 0., 0., 0., 0., 0., 0., 0., 0., 0., 0., 0.,\n",
       "       0., 0., 0.])"
      ]
     },
     "execution_count": 65,
     "metadata": {},
     "output_type": "execute_result"
    }
   ],
   "source": [
    "counts"
   ]
  },
  {
   "cell_type": "code",
   "execution_count": 67,
   "id": "8d435673-727f-4074-95c0-99057959258c",
   "metadata": {},
   "outputs": [],
   "source": [
    "# add 1 to each of these bins\n",
    "np.add.at(counts,i,1)"
   ]
  },
  {
   "cell_type": "code",
   "execution_count": 69,
   "id": "93414337-d9f5-4290-b1de-332acbfc08b2",
   "metadata": {},
   "outputs": [
    {
     "data": {
      "text/plain": [
       "array([ 0.,  0.,  0.,  0.,  0.,  0.,  1.,  7., 15., 13., 12., 32.,  7.,\n",
       "        8.,  2.,  2.,  1.,  0.,  0.,  0.])"
      ]
     },
     "execution_count": 69,
     "metadata": {},
     "output_type": "execute_result"
    }
   ],
   "source": [
    "counts"
   ]
  },
  {
   "cell_type": "code",
   "execution_count": 69,
   "id": "3dba27d2-7d04-4f4b-b273-08c3120d3668",
   "metadata": {},
   "outputs": [
    {
     "data": {
      "image/png": "[encoded data removed]",
      "text/plain": [
       "<Figure size 640x480 with 1 Axes>"
      ]
     },
     "metadata": {},
     "output_type": "display_data"
    }
   ],
   "source": [
    "# plot\n",
    "plt.plot(bins,counts,drawstyle='steps');"
   ]
  },
  {
   "cell_type": "code",
   "execution_count": 71,
   "id": "e28b7d29-7767-42cd-aa95-9e9a3deff4aa",
   "metadata": {},
   "outputs": [
    {
     "data": {
      "image/png": "[encoded data removed]",
      "text/plain": [
       "<Figure size 640x480 with 1 Axes>"
      ]
     },
     "metadata": {},
     "output_type": "display_data"
    }
   ],
   "source": [
    "plt.hist(x,bins,histtype='step');"
   ]
  }
 ],
 "metadata": {
  "kernelspec": {
   "display_name": "Python 3 (ipykernel)",
   "language": "python",
   "name": "python3"
  },
  "language_info": {
   "codemirror_mode": {
    "name": "ipython",
    "version": 3
   },
   "file_extension": ".py",
   "mimetype": "text/x-python",
   "name": "python",
   "nbconvert_exporter": "python",
   "pygments_lexer": "ipython3",
   "version": "3.11.9"
  }
 },
 "nbformat": 4,
 "nbformat_minor": 5
}
