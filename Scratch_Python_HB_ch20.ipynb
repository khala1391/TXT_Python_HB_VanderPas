{
 "cells": [
  {
   "cell_type": "markdown",
   "id": "78600f53-4876-499a-b935-b19b60b486fc",
   "metadata": {},
   "source": [
    "## Chapter20: Aggregation and Grouping"
   ]
  },
  {
   "cell_type": "markdown",
   "id": "fff00d05-a66e-4d06-9a46-f1dbaa57f1e6",
   "metadata": {},
   "source": [
    "---\n",
    "* Author:  [Yuttapong Mahasittiwat](mailto:khala1391@gmail.com)\n",
    "* Technologist | Data Modeler | Data Analyst\n",
    "* [YouTube](https://www.youtube.com/khala1391)\n",
    "* [LinkedIn](https://www.linkedin.com/in/yuttapong-m/)\n",
    "---"
   ]
  },
  {
   "cell_type": "markdown",
   "id": "af1c295b-6121-41f4-af08-4f7adcd5b1cc",
   "metadata": {},
   "source": [
    "Source: [**Python Data Science Handbook** by **VanderPlas**](https://jakevdp.github.io/PythonDataScienceHandbook/)"
   ]
  },
  {
   "cell_type": "code",
   "execution_count": 2,
   "id": "e98e2ee5-6195-473c-940f-457ba91930a9",
   "metadata": {},
   "outputs": [
    {
     "name": "stdout",
     "output_type": "stream",
     "text": [
      "numpy version : 1.26.4\n",
      "pandas version : 2.2.1\n"
     ]
    }
   ],
   "source": [
    "import numpy as np\n",
    "import pandas as pd\n",
    "print(\"numpy version :\",np.__version__)\n",
    "print(\"pandas version :\",pd.__version__)"
   ]
  },
  {
   "cell_type": "markdown",
   "id": "9b24fe4a-9e38-4666-97c5-8008a1e976ad",
   "metadata": {},
   "source": [
    "## Planets Data"
   ]
  },
  {
   "cell_type": "code",
   "execution_count": null,
   "id": "3c50c733-6408-4b00-a3a2-e5a3b5f7e7f7",
   "metadata": {},
   "outputs": [],
   "source": []
  },
  {
   "cell_type": "code",
   "execution_count": null,
   "id": "77239a94-795f-4930-bc70-52dd81dcdaec",
   "metadata": {},
   "outputs": [],
   "source": []
  },
  {
   "cell_type": "markdown",
   "id": "49329d27-2cc0-48fd-8a16-34093f7844a8",
   "metadata": {},
   "source": [
    "## Simple Aggregation in Pandas"
   ]
  },
  {
   "cell_type": "code",
   "execution_count": null,
   "id": "1cbddc57-e356-4eae-9730-6f10fd83b4ff",
   "metadata": {},
   "outputs": [],
   "source": []
  },
  {
   "cell_type": "code",
   "execution_count": null,
   "id": "98bf49fe-0d50-4f25-8952-8221d4c5cc87",
   "metadata": {},
   "outputs": [],
   "source": []
  },
  {
   "cell_type": "markdown",
   "id": "27cc5613-8f94-41a1-9acd-49eb9576e967",
   "metadata": {},
   "source": [
    "## groupby: Split, Apply, Combine"
   ]
  },
  {
   "cell_type": "code",
   "execution_count": null,
   "id": "44dde50d-aaa8-4ef5-9361-c87861ae8ccd",
   "metadata": {},
   "outputs": [],
   "source": []
  },
  {
   "cell_type": "code",
   "execution_count": null,
   "id": "084c25f5-41b2-401c-81a3-2d38a27bceb7",
   "metadata": {},
   "outputs": [],
   "source": []
  },
  {
   "cell_type": "markdown",
   "id": "c2fba09c-7640-46fe-9695-5e91b7843222",
   "metadata": {},
   "source": [
    "### Split, Apply, Combine"
   ]
  },
  {
   "cell_type": "markdown",
   "id": "41821e2b-f505-4c08-87c3-f6a3bfb68e6c",
   "metadata": {},
   "source": [
    "### Groupby Object"
   ]
  },
  {
   "cell_type": "code",
   "execution_count": null,
   "id": "c026644f-4268-4bae-9f3a-69f60dd271eb",
   "metadata": {},
   "outputs": [],
   "source": []
  },
  {
   "cell_type": "code",
   "execution_count": null,
   "id": "86e89149-2919-4268-8a34-544e3c912375",
   "metadata": {},
   "outputs": [],
   "source": []
  },
  {
   "cell_type": "markdown",
   "id": "2e34c0f6-f645-4f99-8396-185103505efe",
   "metadata": {},
   "source": [
    "### Aggregate, Filter, Transform, Apply"
   ]
  },
  {
   "cell_type": "code",
   "execution_count": null,
   "id": "e61ac8e8-b4c4-430c-a42a-69a412284a61",
   "metadata": {},
   "outputs": [],
   "source": []
  },
  {
   "cell_type": "code",
   "execution_count": null,
   "id": "6d6467cf-42e6-426c-a490-3ce94c01e7ea",
   "metadata": {},
   "outputs": [],
   "source": []
  },
  {
   "cell_type": "markdown",
   "id": "19edd3e8-0cf6-4cfc-ad35-569fc7bbbd9d",
   "metadata": {},
   "source": [
    "### Specifying Split Key"
   ]
  },
  {
   "cell_type": "code",
   "execution_count": null,
   "id": "a0e120e4-c1fc-46d5-80ee-a23b6ad05d1a",
   "metadata": {},
   "outputs": [],
   "source": []
  },
  {
   "cell_type": "code",
   "execution_count": null,
   "id": "8e86505d-37bd-4ece-8b26-ed1b19eea411",
   "metadata": {},
   "outputs": [],
   "source": []
  },
  {
   "cell_type": "markdown",
   "id": "2d6c40e0-ff9a-4adb-a6dd-0400a8a1ce44",
   "metadata": {},
   "source": [
    "### Grouping Example"
   ]
  },
  {
   "cell_type": "code",
   "execution_count": null,
   "id": "2abc7178-e1ff-4368-9040-69dd5142f92a",
   "metadata": {},
   "outputs": [],
   "source": []
  },
  {
   "cell_type": "code",
   "execution_count": null,
   "id": "4858570d-2ce9-437e-9d88-ee5d61b34a09",
   "metadata": {},
   "outputs": [],
   "source": []
  },
  {
   "cell_type": "code",
   "execution_count": null,
   "id": "8c95d04e-ce5b-4e89-9fee-bb7ee79be67f",
   "metadata": {},
   "outputs": [],
   "source": []
  },
  {
   "cell_type": "code",
   "execution_count": null,
   "id": "d6456770-a649-49f7-97e2-0f11e5a1bc86",
   "metadata": {},
   "outputs": [],
   "source": []
  },
  {
   "cell_type": "code",
   "execution_count": null,
   "id": "6c0e031a-9f48-4a91-a9fa-8bad2f3051e4",
   "metadata": {},
   "outputs": [],
   "source": []
  },
  {
   "cell_type": "code",
   "execution_count": null,
   "id": "9b70758a-25ff-4db3-9899-f5fcedfbf49f",
   "metadata": {},
   "outputs": [],
   "source": []
  }
 ],
 "metadata": {
  "kernelspec": {
   "display_name": "Python 3 (ipykernel)",
   "language": "python",
   "name": "python3"
  },
  "language_info": {
   "codemirror_mode": {
    "name": "ipython",
    "version": 3
   },
   "file_extension": ".py",
   "mimetype": "text/x-python",
   "name": "python",
   "nbconvert_exporter": "python",
   "pygments_lexer": "ipython3",
   "version": "3.11.9"
  }
 },
 "nbformat": 4,
 "nbformat_minor": 5
}
