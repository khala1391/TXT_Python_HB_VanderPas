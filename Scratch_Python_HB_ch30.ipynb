{
 "cells": [
  {
   "cell_type": "markdown",
   "id": "0c902d3b-7c4c-4928-9a6a-015a9e9920a6",
   "metadata": {},
   "source": [
    "## Chapter30: Customizing Colorbars"
   ]
  },
  {
   "cell_type": "markdown",
   "id": "0e6f6dcc-3c9e-4f03-b464-e9ebc1df9f37",
   "metadata": {},
   "source": [
    "---\n",
    "* Author:  [Yuttapong Mahasittiwat](mailto:khala1391@gmail.com)\n",
    "* Technologist | Data Modeler | Data Analyst\n",
    "* [YouTube](https://www.youtube.com/khala1391)\n",
    "* [LinkedIn](https://www.linkedin.com/in/yuttapong-m/)\n",
    "---"
   ]
  },
  {
   "cell_type": "markdown",
   "id": "06cbf1b0-9fb5-4836-a261-d319bd5adba3",
   "metadata": {},
   "source": [
    "Source: [**Python Data Science Handbook** by **VanderPlas**](https://jakevdp.github.io/PythonDataScienceHandbook/)"
   ]
  },
  {
   "cell_type": "code",
   "execution_count": 17,
   "id": "cb78c04b-5ed9-4f28-b4bd-95badf9e6550",
   "metadata": {},
   "outputs": [
    {
     "name": "stdout",
     "output_type": "stream",
     "text": [
      "numpy version : 1.26.4\n",
      "pandas version : 2.2.1\n"
     ]
    }
   ],
   "source": [
    "import numpy as np\n",
    "import pandas as pd\n",
    "print(\"numpy version :\",np.__version__)\n",
    "print(\"pandas version :\",pd.__version__)"
   ]
  },
  {
   "cell_type": "code",
   "execution_count": 19,
   "id": "ecea34c5-0589-49ac-bfb1-a28a4235f758",
   "metadata": {},
   "outputs": [
    {
     "name": "stdout",
     "output_type": "stream",
     "text": [
      "matplotlib version : 3.8.4\n"
     ]
    }
   ],
   "source": [
    "import matplotlib as mpl\n",
    "import matplotlib.pyplot as plt\n",
    "print(\"matplotlib version :\",mpl.__version__)"
   ]
  },
  {
   "cell_type": "markdown",
   "id": "742c4bd9-9f6b-4091-b261-34bd1d667dd2",
   "metadata": {},
   "source": [
    "### Customizing Colorbars"
   ]
  },
  {
   "cell_type": "code",
   "execution_count": null,
   "id": "9eb75b87-a6fc-477d-97b6-1f0a01093540",
   "metadata": {},
   "outputs": [],
   "source": []
  },
  {
   "cell_type": "code",
   "execution_count": null,
   "id": "0048f9bf-66ff-4457-81c0-cac99d8cdff5",
   "metadata": {},
   "outputs": [],
   "source": []
  },
  {
   "cell_type": "markdown",
   "id": "268285bf-6dcf-4621-89ec-68568c893486",
   "metadata": {},
   "source": [
    "#### choosing colormap"
   ]
  },
  {
   "cell_type": "code",
   "execution_count": null,
   "id": "f2780cd2-5159-4e03-b46d-78db802adcc8",
   "metadata": {},
   "outputs": [],
   "source": []
  },
  {
   "cell_type": "code",
   "execution_count": null,
   "id": "994f229d-4c5e-4c85-aaa4-8fe14ac57823",
   "metadata": {},
   "outputs": [],
   "source": []
  },
  {
   "cell_type": "markdown",
   "id": "4c449b9b-c985-42e6-ae9d-dfb34d549f7e",
   "metadata": {},
   "source": [
    "#### color limits and extensions"
   ]
  },
  {
   "cell_type": "code",
   "execution_count": null,
   "id": "10f0d31d-4821-48cd-a049-372779b9ad0d",
   "metadata": {},
   "outputs": [],
   "source": []
  },
  {
   "cell_type": "code",
   "execution_count": null,
   "id": "bfeb2199-b373-4511-834f-edb77344080c",
   "metadata": {},
   "outputs": [],
   "source": []
  },
  {
   "cell_type": "markdown",
   "id": "5b09c7cf-c70e-40ca-99e2-d5f3bb7c85d2",
   "metadata": {},
   "source": [
    "#### discrete colorbars"
   ]
  },
  {
   "cell_type": "code",
   "execution_count": null,
   "id": "b130ab43-ab8d-4ace-b293-fbb226939707",
   "metadata": {},
   "outputs": [],
   "source": []
  },
  {
   "cell_type": "code",
   "execution_count": null,
   "id": "4bdb819a-d2f3-4e7e-8d43-685c0da3326d",
   "metadata": {},
   "outputs": [],
   "source": []
  },
  {
   "cell_type": "code",
   "execution_count": null,
   "id": "84cc4946-16b6-4e60-92f6-4181f142ec52",
   "metadata": {},
   "outputs": [],
   "source": []
  },
  {
   "cell_type": "markdown",
   "id": "d04c438a-f07d-4604-ae5e-22a51027b328",
   "metadata": {},
   "source": [
    "### example: handwritten digits"
   ]
  },
  {
   "cell_type": "code",
   "execution_count": null,
   "id": "b8459065-b205-49cc-bf69-3e9a61be5076",
   "metadata": {},
   "outputs": [],
   "source": []
  },
  {
   "cell_type": "code",
   "execution_count": null,
   "id": "170e7284-66c7-4773-b80b-cef64045ec7e",
   "metadata": {},
   "outputs": [],
   "source": []
  }
 ],
 "metadata": {
  "kernelspec": {
   "display_name": "Python 3 (ipykernel)",
   "language": "python",
   "name": "python3"
  },
  "language_info": {
   "codemirror_mode": {
    "name": "ipython",
    "version": 3
   },
   "file_extension": ".py",
   "mimetype": "text/x-python",
   "name": "python",
   "nbconvert_exporter": "python",
   "pygments_lexer": "ipython3",
   "version": "3.11.9"
  }
 },
 "nbformat": 4,
 "nbformat_minor": 5
}
