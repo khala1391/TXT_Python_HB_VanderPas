{
 "cells": [
  {
   "cell_type": "markdown",
   "id": "ee55a384-4825-4daa-8717-0775e7c30fec",
   "metadata": {},
   "source": [
    "## Chapter6 : computation on numpy arrays: Universal functions"
   ]
  },
  {
   "cell_type": "markdown",
   "id": "c3040bdb-d580-45c4-a3cf-ffeb051ade5b",
   "metadata": {},
   "source": [
    "---\n",
    "* Author:  [Yuttapong Mahasittiwat](mailto:khala1391@gmail.com)\n",
    "* Technologist | Data Modeler | Data Analyst\n",
    "* [YouTube](https://www.youtube.com/khala1391)\n",
    "* [LinkedIn](https://www.linkedin.com/in/yuttapong-m/)\n",
    "---"
   ]
  },
  {
   "cell_type": "markdown",
   "id": "22906680-c323-4c44-aa14-1679d5bf24da",
   "metadata": {},
   "source": [
    "---\n",
    "* Author:  [Yuttapong Mahasittiwat](mailto:khala1391@gmail.com)\n",
    "* Technologist | Data Modeler | Data Analyst\n",
    "* [YouTube](https://www.youtube.com/khala1391)\n",
    "* [LinkedIn](https://www.linkedin.com/in/yuttapong-m/)\n",
    "---"
   ]
  },
  {
   "cell_type": "code",
   "execution_count": 1,
   "id": "3be0020f-a1a2-4c4a-a886-405a463e2e8e",
   "metadata": {},
   "outputs": [],
   "source": [
    "import numpy as np"
   ]
  },
  {
   "cell_type": "code",
   "execution_count": 20,
   "id": "03985f9b-14a1-48be-bcab-8291ff8641c9",
   "metadata": {},
   "outputs": [
    {
     "data": {
      "text/plain": [
       "array([0.11111111, 0.25      , 1.        , 0.33333333, 0.125     ])"
      ]
     },
     "execution_count": 20,
     "metadata": {},
     "output_type": "execute_result"
    }
   ],
   "source": [
    "rng = np.random.default_rng(seed=1701)\n",
    "\n",
    "def compute_reciprocals(values):\n",
    "    output = np.empty(len(values))\n",
    "    for i in range(len(values)):\n",
    "        output[i] = 1.0 / values[i]\n",
    "    return output\n",
    "    \n",
    "values = rng.integers(1, 10, size=5)\n",
    "compute_reciprocals(values)"
   ]
  },
  {
   "cell_type": "code",
   "execution_count": 26,
   "id": "e3e27858-4586-4d3e-8bbd-92e15fab4804",
   "metadata": {},
   "outputs": [
    {
     "name": "stdout",
     "output_type": "stream",
     "text": [
      "4.44 s ± 456 ms per loop (mean ± std. dev. of 7 runs, 1 loop each)\n"
     ]
    }
   ],
   "source": [
    "big_array = rng.integers(1, 100, size=1000000)\n",
    "# %timeit compute_reciprocals(big_array)   # very SLOW due to LOOP"
   ]
  },
  {
   "cell_type": "code",
   "execution_count": 34,
   "id": "f8ccae84-2ee0-4d60-8be9-1bbf5cd61e57",
   "metadata": {},
   "outputs": [
    {
     "data": {
      "text/plain": [
       "1000000"
      ]
     },
     "execution_count": 34,
     "metadata": {},
     "output_type": "execute_result"
    }
   ],
   "source": [
    "big_array.size"
   ]
  },
  {
   "cell_type": "code",
   "execution_count": 41,
   "id": "7fd8b6de-d56c-4ccf-9b5c-387158f7549b",
   "metadata": {},
   "outputs": [
    {
     "name": "stdout",
     "output_type": "stream",
     "text": [
      "[0.11111111 0.25       1.         0.33333333 0.125     ]\n",
      "[0.11111111 0.25       1.         0.33333333 0.125     ]\n"
     ]
    }
   ],
   "source": [
    "print(compute_reciprocals(values))   # loop\n",
    "print(1/values)  # not loop"
   ]
  },
  {
   "cell_type": "code",
   "execution_count": 43,
   "id": "20abff16-475c-4f19-911a-618abeaae54b",
   "metadata": {},
   "outputs": [
    {
     "name": "stdout",
     "output_type": "stream",
     "text": [
      "9.33 ms ± 442 µs per loop (mean ± std. dev. of 7 runs, 100 loops each)\n"
     ]
    }
   ],
   "source": [
    "# %timeit (1.0/big_array)   # much FASTER"
   ]
  },
  {
   "cell_type": "code",
   "execution_count": 51,
   "id": "8d757ac5-d954-4261-9a6f-9c2bf11b29ac",
   "metadata": {},
   "outputs": [
    {
     "data": {
      "text/plain": [
       "(array([0, 1, 2, 3, 4]), array([1, 2, 3, 4, 5]))"
      ]
     },
     "execution_count": 51,
     "metadata": {},
     "output_type": "execute_result"
    }
   ],
   "source": [
    "np.arange(5), np.arange(1,6)"
   ]
  },
  {
   "cell_type": "code",
   "execution_count": 47,
   "id": "d86119ab-c331-48eb-ae11-c4f8b1930b37",
   "metadata": {},
   "outputs": [
    {
     "data": {
      "text/plain": [
       "array([0.        , 0.5       , 0.66666667, 0.75      , 0.8       ])"
      ]
     },
     "execution_count": 47,
     "metadata": {},
     "output_type": "execute_result"
    }
   ],
   "source": [
    "np.arange(5)/np.arange(1,6)"
   ]
  },
  {
   "cell_type": "code",
   "execution_count": 53,
   "id": "ca5fc077-520c-4ed9-8625-6e77045d7532",
   "metadata": {},
   "outputs": [
    {
     "data": {
      "text/plain": [
       "array([[  1,   2,   4],\n",
       "       [  8,  16,  32],\n",
       "       [ 64, 128, 256]], dtype=int32)"
      ]
     },
     "execution_count": 53,
     "metadata": {},
     "output_type": "execute_result"
    }
   ],
   "source": [
    "x = np.arange(9).reshape(3,3)\n",
    "2**x"
   ]
  },
  {
   "cell_type": "code",
   "execution_count": null,
   "id": "6301e577-2a9f-4b66-b6ed-053dabd1c489",
   "metadata": {},
   "outputs": [],
   "source": []
  },
  {
   "cell_type": "markdown",
   "id": "15e31328-1e60-4547-adf5-8eb5e640e356",
   "metadata": {},
   "source": [
    "### explore numpy's ufuncs"
   ]
  },
  {
   "cell_type": "markdown",
   "id": "4d47a864-1d3f-4ffb-8320-9b5f189a064d",
   "metadata": {},
   "source": [
    "**Array Arithmetic**"
   ]
  },
  {
   "cell_type": "code",
   "execution_count": 3,
   "id": "e2fe9c36-81f0-44ff-b1ad-b2437838585e",
   "metadata": {},
   "outputs": [
    {
     "name": "stdout",
     "output_type": "stream",
     "text": [
      "x   = [0 1 2 3]\n",
      "x+5 = [5 6 7 8]\n",
      "x-5 = [-5 -4 -3 -2]\n",
      "x*2 = [0 2 4 6]\n",
      "x/2 = [0.  0.5 1.  1.5]\n",
      "x//2 = [0 0 1 1]\n"
     ]
    }
   ],
   "source": [
    "x = np.arange(4)\n",
    "print(\"x   =\",x)\n",
    "print(\"x+5 =\",x+5)\n",
    "print(\"x-5 =\",x-5)\n",
    "print(\"x*2 =\",x*2)\n",
    "print(\"x/2 =\",x/2)\n",
    "print(\"x//2 =\",x//2)"
   ]
  },
  {
   "cell_type": "code",
   "execution_count": 9,
   "id": "3b60bbc2-02d0-432b-8898-c97ff18af894",
   "metadata": {},
   "outputs": [
    {
     "name": "stdout",
     "output_type": "stream",
     "text": [
      "-x  = [ 0 -1 -2 -3]\n",
      "x **2 = [0 1 4 9]\n",
      "x% 2 =  [0 1 0 1]\n"
     ]
    }
   ],
   "source": [
    "print(\"-x  =\",-x)\n",
    "print(\"x **2 =\", x **2)\n",
    "print(\"x% 2 = \", x % 2)"
   ]
  },
  {
   "cell_type": "code",
   "execution_count": 11,
   "id": "9a3e2054-16bd-4542-9a77-ffe3f7d26470",
   "metadata": {},
   "outputs": [
    {
     "data": {
      "text/plain": [
       "array([-1.  , -2.25, -4.  , -6.25])"
      ]
     },
     "execution_count": 11,
     "metadata": {},
     "output_type": "execute_result"
    }
   ],
   "source": [
    "-(0.5*x+1)**2"
   ]
  },
  {
   "cell_type": "code",
   "execution_count": 13,
   "id": "841aa17c-051a-4874-9127-3cb56f0018f7",
   "metadata": {},
   "outputs": [
    {
     "data": {
      "text/plain": [
       "array([2, 3, 4, 5])"
      ]
     },
     "execution_count": 13,
     "metadata": {},
     "output_type": "execute_result"
    }
   ],
   "source": [
    "np.add(x,2)"
   ]
  },
  {
   "cell_type": "markdown",
   "id": "821fd347-eb78-4951-a545-70721c074584",
   "metadata": {},
   "source": [
    "**Absolute Value**"
   ]
  },
  {
   "cell_type": "code",
   "execution_count": 19,
   "id": "4a71416d-0908-4101-8916-a4a4e9ac5746",
   "metadata": {},
   "outputs": [],
   "source": [
    "x = np.array([-2,-1,0,1,2])"
   ]
  },
  {
   "cell_type": "code",
   "execution_count": 21,
   "id": "2332e279-8a4f-4db4-825c-63dac61def65",
   "metadata": {},
   "outputs": [
    {
     "data": {
      "text/plain": [
       "array([2, 1, 0, 1, 2])"
      ]
     },
     "execution_count": 21,
     "metadata": {},
     "output_type": "execute_result"
    }
   ],
   "source": [
    "np.absolute(x)"
   ]
  },
  {
   "cell_type": "code",
   "execution_count": 23,
   "id": "922f736a-a63a-459e-9a8b-3050e3f92792",
   "metadata": {},
   "outputs": [
    {
     "data": {
      "text/plain": [
       "array([2, 1, 0, 1, 2])"
      ]
     },
     "execution_count": 23,
     "metadata": {},
     "output_type": "execute_result"
    }
   ],
   "source": [
    "np.abs(x)"
   ]
  },
  {
   "cell_type": "code",
   "execution_count": null,
   "id": "fec3eade-1bce-4a35-8262-af775dee01cb",
   "metadata": {},
   "outputs": [],
   "source": []
  },
  {
   "cell_type": "markdown",
   "id": "180c56e8-1f2c-4781-8777-bc5943983a13",
   "metadata": {},
   "source": [
    "**Trigometric**"
   ]
  },
  {
   "cell_type": "code",
   "execution_count": 25,
   "id": "337cce71-7d07-4a7d-be32-b1fdfff9e312",
   "metadata": {},
   "outputs": [],
   "source": [
    "theta = np.linspace(0,np.pi,3)"
   ]
  },
  {
   "cell_type": "code",
   "execution_count": 29,
   "id": "2fbd08cb-2e9c-41a0-965d-2fde04b52f46",
   "metadata": {},
   "outputs": [
    {
     "name": "stdout",
     "output_type": "stream",
     "text": [
      "theta   = [0.         1.57079633 3.14159265]\n",
      "sin(theta)   = [0.0000000e+00 1.0000000e+00 1.2246468e-16]\n",
      "cos(theta)   = [ 1.000000e+00  6.123234e-17 -1.000000e+00]\n",
      "tan(theta)   = [ 0.00000000e+00  1.63312394e+16 -1.22464680e-16]\n"
     ]
    }
   ],
   "source": [
    "print(\"theta   =\", theta)\n",
    "print(\"sin(theta)   =\", np.sin(theta))\n",
    "print(\"cos(theta)   =\", np.cos(theta))\n",
    "print(\"tan(theta)   =\", np.tan(theta))"
   ]
  },
  {
   "cell_type": "code",
   "execution_count": null,
   "id": "901ffc33-3668-459e-af31-ffd4937bc63b",
   "metadata": {},
   "outputs": [],
   "source": [
    "x = [-1,0,1]\n",
    "print()"
   ]
  },
  {
   "cell_type": "code",
   "execution_count": null,
   "id": "fa01c256-14f7-47e6-a558-291585fa3754",
   "metadata": {},
   "outputs": [],
   "source": []
  },
  {
   "cell_type": "code",
   "execution_count": null,
   "id": "f2bdd6eb-9670-4c18-9116-ac4d0c304860",
   "metadata": {},
   "outputs": [],
   "source": []
  },
  {
   "cell_type": "markdown",
   "id": "d7fec1b2-cedb-4a12-88e0-8427c1315910",
   "metadata": {},
   "source": [
    "**Exponents and logarithms**"
   ]
  },
  {
   "cell_type": "code",
   "execution_count": 5,
   "id": "4e5162c7-1a84-49ec-9d38-867e82735c16",
   "metadata": {},
   "outputs": [
    {
     "name": "stdout",
     "output_type": "stream",
     "text": [
      "x = [1, 2, 3]\n",
      "e^x= [ 2.71828183  7.3890561  20.08553692]\n",
      "2^x= [2. 4. 8.]\n",
      "3^x= [ 3.  9. 27.]\n"
     ]
    }
   ],
   "source": [
    "x = [1,2,3]\n",
    "print(\"x =\", x)\n",
    "print(\"e^x=\", np.exp(x))\n",
    "print(\"2^x=\", np.exp2(x))\n",
    "print(\"3^x=\", np.power(3.,x))"
   ]
  },
  {
   "cell_type": "code",
   "execution_count": 7,
   "id": "81b270cf-2ff8-4182-832a-7636aea47c6f",
   "metadata": {},
   "outputs": [
    {
     "name": "stdout",
     "output_type": "stream",
     "text": [
      "x   = [1, 2, 4, 10]\n",
      "ln(x)  = [0.         0.69314718 1.38629436 2.30258509]\n",
      "log2(x)  = [0.         1.         2.         3.32192809]\n",
      "log10(x)  = [0.         0.30103    0.60205999 1.        ]\n"
     ]
    }
   ],
   "source": [
    "x =[1,2,4,10]\n",
    "print(\"x   =\", x)\n",
    "print(\"ln(x)  =\", np.log(x))\n",
    "print(\"log2(x)  =\", np.log2(x))\n",
    "print(\"log10(x)  =\", np.log10(x))"
   ]
  },
  {
   "cell_type": "code",
   "execution_count": 17,
   "id": "bbf12fd3-fa2e-4432-862b-05e0304ed8e4",
   "metadata": {},
   "outputs": [
    {
     "name": "stdout",
     "output_type": "stream",
     "text": [
      "exp((x) - 1 =  [0.         0.0010005  0.01005017 0.10517092]\n",
      "log(1+x)    =  [0.         0.0009995  0.00995033 0.09531018]\n"
     ]
    }
   ],
   "source": [
    "x=[0,.001,.01,.1]\n",
    "print(\"exp((x) - 1 = \", np.expm1(x))\n",
    "print(\"log(1+x)    = \",  np.log1p(x))"
   ]
  },
  {
   "cell_type": "code",
   "execution_count": null,
   "id": "664613fe-a652-4998-8f6f-f276a59e2208",
   "metadata": {},
   "outputs": [],
   "source": []
  },
  {
   "cell_type": "code",
   "execution_count": null,
   "id": "b09f9143-e99b-4b4a-afee-c4a70f6536e4",
   "metadata": {},
   "outputs": [],
   "source": []
  },
  {
   "cell_type": "markdown",
   "id": "1ac135c3-8c9d-44da-998b-bd6a40b226b9",
   "metadata": {},
   "source": [
    "**Specialized Ufunc**"
   ]
  },
  {
   "cell_type": "code",
   "execution_count": 19,
   "id": "4bcd1875-15e7-47f5-aafc-effb30bef7ee",
   "metadata": {},
   "outputs": [],
   "source": [
    "from scipy import special"
   ]
  },
  {
   "cell_type": "code",
   "execution_count": null,
   "id": "400fde7c-867e-470e-bab6-30ce5c2508b6",
   "metadata": {},
   "outputs": [],
   "source": []
  },
  {
   "cell_type": "code",
   "execution_count": null,
   "id": "4279aaaa-74d7-42f1-b96a-77003466e656",
   "metadata": {},
   "outputs": [],
   "source": []
  },
  {
   "cell_type": "code",
   "execution_count": null,
   "id": "06ae6bac-15b7-4ca2-ac89-9e912248e19d",
   "metadata": {},
   "outputs": [],
   "source": []
  },
  {
   "cell_type": "code",
   "execution_count": null,
   "id": "c9f48929-41f1-41bd-a428-4ea4cd987c24",
   "metadata": {},
   "outputs": [],
   "source": []
  },
  {
   "cell_type": "code",
   "execution_count": null,
   "id": "3872a2c9-214c-4052-a799-90930615cbca",
   "metadata": {},
   "outputs": [],
   "source": []
  },
  {
   "cell_type": "markdown",
   "id": "32b7dc49-b659-42b6-b4c7-3134617d364c",
   "metadata": {},
   "source": [
    "### Advance Ufunc"
   ]
  },
  {
   "cell_type": "markdown",
   "id": "fdb344d4-7b4d-4244-97f8-b473e4b5e422",
   "metadata": {},
   "source": [
    "**specfiying Output**"
   ]
  },
  {
   "cell_type": "code",
   "execution_count": 21,
   "id": "5387d42c-a853-4970-a7ac-b47a3cd773e2",
   "metadata": {},
   "outputs": [
    {
     "data": {
      "text/plain": [
       "array([ 0., 10., 20., 30., 40.])"
      ]
     },
     "execution_count": 21,
     "metadata": {},
     "output_type": "execute_result"
    }
   ],
   "source": [
    "x = np.arange(5)\n",
    "y = np.empty(5)\n",
    "np.multiply(x,10,out=y)\n",
    "y"
   ]
  },
  {
   "cell_type": "code",
   "execution_count": 23,
   "id": "a8ea869c-017d-49d3-85f5-7bb3fbee259a",
   "metadata": {},
   "outputs": [
    {
     "data": {
      "text/plain": [
       "array([ 1.,  0.,  2.,  0.,  4.,  0.,  8.,  0., 16.,  0.])"
      ]
     },
     "execution_count": 23,
     "metadata": {},
     "output_type": "execute_result"
    }
   ],
   "source": [
    "y = np.zeros(10)\n",
    "np.power(2,x, out=y[::2])\n",
    "y"
   ]
  },
  {
   "cell_type": "code",
   "execution_count": null,
   "id": "7c1cf585-8645-4800-86f6-d600d4866840",
   "metadata": {},
   "outputs": [],
   "source": []
  },
  {
   "cell_type": "code",
   "execution_count": null,
   "id": "d348697e-d949-4b1b-8bff-5faf8a626d99",
   "metadata": {},
   "outputs": [],
   "source": []
  },
  {
   "cell_type": "markdown",
   "id": "f6e9e8df-ffe7-4194-a775-d87ceff30894",
   "metadata": {},
   "source": [
    "**Aggregation**"
   ]
  },
  {
   "cell_type": "markdown",
   "id": "3004c076-6228-4ef7-820f-0e78e215e9e6",
   "metadata": {},
   "source": [
    "more information: [ufunc](https://numpy.org/doc/stable/reference/ufuncs.html#ufuncs)\n",
    "\n",
    "highlight ufunc.* function:\n",
    "-  reduce\n",
    "-  accumulate\n",
    "-  outer\n",
    "-  at\n",
    "-  reduceat"
   ]
  },
  {
   "cell_type": "code",
   "execution_count": 25,
   "id": "8ac9398b-2e74-4e6e-9d6b-eac5f9e3f5ba",
   "metadata": {},
   "outputs": [
    {
     "data": {
      "text/plain": [
       "15"
      ]
     },
     "execution_count": 25,
     "metadata": {},
     "output_type": "execute_result"
    }
   ],
   "source": [
    "x = np.arange(1,6)\n",
    "np.add.reduce(x)"
   ]
  },
  {
   "cell_type": "code",
   "execution_count": 27,
   "id": "c57aac27-d126-4531-9901-ced8d054ccaf",
   "metadata": {},
   "outputs": [
    {
     "data": {
      "text/plain": [
       "120"
      ]
     },
     "execution_count": 27,
     "metadata": {},
     "output_type": "execute_result"
    }
   ],
   "source": [
    "np.multiply.reduce(x)"
   ]
  },
  {
   "cell_type": "code",
   "execution_count": 29,
   "id": "d7bed457-1c4a-44c7-9280-4c17161d6a18",
   "metadata": {},
   "outputs": [
    {
     "data": {
      "text/plain": [
       "array([ 1,  3,  6, 10, 15])"
      ]
     },
     "execution_count": 29,
     "metadata": {},
     "output_type": "execute_result"
    }
   ],
   "source": [
    "np.add.accumulate(x)"
   ]
  },
  {
   "cell_type": "code",
   "execution_count": 33,
   "id": "c166d9c1-578f-4db2-953a-9626cdd1f73d",
   "metadata": {},
   "outputs": [
    {
     "data": {
      "text/plain": [
       "array([  1,   2,   6,  24, 120])"
      ]
     },
     "execution_count": 33,
     "metadata": {},
     "output_type": "execute_result"
    }
   ],
   "source": [
    "np.multiply.accumulate(x)"
   ]
  },
  {
   "cell_type": "code",
   "execution_count": 41,
   "id": "12e6ee7e-85cd-44f4-9cc0-92409b733780",
   "metadata": {},
   "outputs": [
    {
     "name": "stdout",
     "output_type": "stream",
     "text": [
      "np.sum : 15\n",
      "np.product : 120\n",
      "np.cumsum : [ 1  3  6 10 15]\n",
      "np.cumproduct : [  1   2   6  24 120]\n"
     ]
    }
   ],
   "source": [
    "# dedicated np function\n",
    "print(\"np.sum :\", np.sum(x))\n",
    "print(\"np.product :\", np.product(x))\n",
    "print(\"np.cumsum :\", np.cumsum(x))\n",
    "print(\"np.cumproduct :\", np.cumproduct(x))"
   ]
  },
  {
   "cell_type": "markdown",
   "id": "c24aadc4-57e2-4ffd-a0ad-1be481a90301",
   "metadata": {},
   "source": [
    "**Outer Product**"
   ]
  },
  {
   "cell_type": "code",
   "execution_count": 43,
   "id": "021f2cb9-7337-4b57-b0c0-53d3b39cdbac",
   "metadata": {},
   "outputs": [
    {
     "data": {
      "text/plain": [
       "array([[ 1,  2,  3,  4,  5],\n",
       "       [ 2,  4,  6,  8, 10],\n",
       "       [ 3,  6,  9, 12, 15],\n",
       "       [ 4,  8, 12, 16, 20],\n",
       "       [ 5, 10, 15, 20, 25]])"
      ]
     },
     "execution_count": 43,
     "metadata": {},
     "output_type": "execute_result"
    }
   ],
   "source": [
    "x = np.arange(1,6)\n",
    "np.multiply.outer(x,x)"
   ]
  },
  {
   "cell_type": "code",
   "execution_count": null,
   "id": "ed2429aa-90b8-4153-b1d2-152869b2c512",
   "metadata": {},
   "outputs": [],
   "source": []
  },
  {
   "cell_type": "code",
   "execution_count": null,
   "id": "dc62f1e1-b509-43ba-8690-fe3fb103311b",
   "metadata": {},
   "outputs": [],
   "source": []
  },
  {
   "cell_type": "code",
   "execution_count": null,
   "id": "33ae0c95-2b46-4632-a16c-ab7c1c1cadc9",
   "metadata": {},
   "outputs": [],
   "source": []
  },
  {
   "cell_type": "code",
   "execution_count": null,
   "id": "75db8c15-0708-4152-8df3-fedde188749f",
   "metadata": {},
   "outputs": [],
   "source": []
  }
 ],
 "metadata": {
  "kernelspec": {
   "display_name": "Python 3 (ipykernel)",
   "language": "python",
   "name": "python3"
  },
  "language_info": {
   "codemirror_mode": {
    "name": "ipython",
    "version": 3
   },
   "file_extension": ".py",
   "mimetype": "text/x-python",
   "name": "python",
   "nbconvert_exporter": "python",
   "pygments_lexer": "ipython3",
   "version": "3.11.9"
  }
 },
 "nbformat": 4,
 "nbformat_minor": 5
}
