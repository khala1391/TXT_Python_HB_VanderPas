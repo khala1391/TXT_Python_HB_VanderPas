{
 "cells": [
  {
   "cell_type": "markdown",
   "id": "78600f53-4876-499a-b935-b19b60b486fc",
   "metadata": {},
   "source": [
    "## Chapter22: Vectorized String Operations"
   ]
  },
  {
   "cell_type": "markdown",
   "id": "fff00d05-a66e-4d06-9a46-f1dbaa57f1e6",
   "metadata": {},
   "source": [
    "---\n",
    "* Author:  [Yuttapong Mahasittiwat](mailto:khala1391@gmail.com)\n",
    "* Technologist | Data Modeler | Data Analyst\n",
    "* [YouTube](https://www.youtube.com/khala1391)\n",
    "* [LinkedIn](https://www.linkedin.com/in/yuttapong-m/)\n",
    "---"
   ]
  },
  {
   "cell_type": "markdown",
   "id": "af1c295b-6121-41f4-af08-4f7adcd5b1cc",
   "metadata": {},
   "source": [
    "Source: [**Python Data Science Handbook** by **VanderPlas**](https://jakevdp.github.io/PythonDataScienceHandbook/)"
   ]
  },
  {
   "cell_type": "code",
   "execution_count": 2,
   "id": "e98e2ee5-6195-473c-940f-457ba91930a9",
   "metadata": {},
   "outputs": [
    {
     "name": "stdout",
     "output_type": "stream",
     "text": [
      "numpy version : 1.26.4\n",
      "pandas version : 2.2.1\n"
     ]
    }
   ],
   "source": [
    "import numpy as np\n",
    "import pandas as pd\n",
    "print(\"numpy version :\",np.__version__)\n",
    "print(\"pandas version :\",pd.__version__)"
   ]
  },
  {
   "cell_type": "markdown",
   "id": "9b24fe4a-9e38-4666-97c5-8008a1e976ad",
   "metadata": {},
   "source": [
    "## Introducing Pandas String Methods"
   ]
  },
  {
   "cell_type": "markdown",
   "id": "5b90e2d0-2c84-46d5-85af-2703ce1ecf3e",
   "metadata": {},
   "source": [
    "## Tables of Pandas String Methods"
   ]
  },
  {
   "cell_type": "code",
   "execution_count": null,
   "id": "26bb31bd-ac67-45cb-a0f9-85664ac0687f",
   "metadata": {},
   "outputs": [],
   "source": []
  },
  {
   "cell_type": "code",
   "execution_count": null,
   "id": "7552ccbd-26d8-4fc1-b670-2bff19fa1697",
   "metadata": {},
   "outputs": [],
   "source": []
  },
  {
   "cell_type": "markdown",
   "id": "9c19cd13-5e3f-440c-8139-c3bca5e3a9a3",
   "metadata": {},
   "source": [
    "### Method Similar to Python String Methods"
   ]
  },
  {
   "cell_type": "code",
   "execution_count": null,
   "id": "7e44021f-3c25-4f32-80ca-cd3e249a8e5c",
   "metadata": {},
   "outputs": [],
   "source": []
  },
  {
   "cell_type": "code",
   "execution_count": null,
   "id": "a36fda16-b08c-4abc-afe3-9283caccc0da",
   "metadata": {},
   "outputs": [],
   "source": []
  },
  {
   "cell_type": "markdown",
   "id": "cf0662c0-dad1-4022-8138-eb72263e6c6b",
   "metadata": {},
   "source": [
    "### Method Using Regular Expressions"
   ]
  },
  {
   "cell_type": "code",
   "execution_count": null,
   "id": "5602fd4c-44d6-4d81-976d-99bdde3d4765",
   "metadata": {},
   "outputs": [],
   "source": []
  },
  {
   "cell_type": "code",
   "execution_count": null,
   "id": "88b3651d-3615-45c0-896c-d0d4ae68886a",
   "metadata": {},
   "outputs": [],
   "source": []
  },
  {
   "cell_type": "markdown",
   "id": "edac943c-d202-488e-955e-1cb3d1ef99bd",
   "metadata": {},
   "source": [
    "### Miscellaneous Methods"
   ]
  },
  {
   "cell_type": "code",
   "execution_count": null,
   "id": "16bc9337-8e4a-42f5-b96f-dcf45cb89459",
   "metadata": {},
   "outputs": [],
   "source": []
  },
  {
   "cell_type": "code",
   "execution_count": null,
   "id": "d00cc7ea-32b7-4029-a9c8-93bd31de5586",
   "metadata": {},
   "outputs": [],
   "source": []
  },
  {
   "cell_type": "markdown",
   "id": "49329d27-2cc0-48fd-8a16-34093f7844a8",
   "metadata": {},
   "source": [
    "## Example: Recipe Database"
   ]
  },
  {
   "cell_type": "code",
   "execution_count": null,
   "id": "1cbddc57-e356-4eae-9730-6f10fd83b4ff",
   "metadata": {},
   "outputs": [],
   "source": []
  },
  {
   "cell_type": "markdown",
   "id": "0908dac0-5508-4044-bd0a-a1b18a01a616",
   "metadata": {},
   "source": [
    "### Simple Recipe Recommender"
   ]
  },
  {
   "cell_type": "code",
   "execution_count": null,
   "id": "89b42308-76ae-4242-a979-c75e68607fbd",
   "metadata": {},
   "outputs": [],
   "source": []
  },
  {
   "cell_type": "markdown",
   "id": "eea75cfd-a7fb-404b-9fc1-135a4842e90f",
   "metadata": {},
   "source": [
    "### Going Further with Recipes"
   ]
  },
  {
   "cell_type": "code",
   "execution_count": null,
   "id": "98bf49fe-0d50-4f25-8952-8221d4c5cc87",
   "metadata": {},
   "outputs": [],
   "source": []
  },
  {
   "cell_type": "code",
   "execution_count": null,
   "id": "44dde50d-aaa8-4ef5-9361-c87861ae8ccd",
   "metadata": {},
   "outputs": [],
   "source": []
  },
  {
   "cell_type": "code",
   "execution_count": null,
   "id": "084c25f5-41b2-401c-81a3-2d38a27bceb7",
   "metadata": {},
   "outputs": [],
   "source": []
  },
  {
   "cell_type": "code",
   "execution_count": null,
   "id": "8c95d04e-ce5b-4e89-9fee-bb7ee79be67f",
   "metadata": {},
   "outputs": [],
   "source": []
  },
  {
   "cell_type": "code",
   "execution_count": null,
   "id": "d6456770-a649-49f7-97e2-0f11e5a1bc86",
   "metadata": {},
   "outputs": [],
   "source": []
  },
  {
   "cell_type": "code",
   "execution_count": null,
   "id": "6c0e031a-9f48-4a91-a9fa-8bad2f3051e4",
   "metadata": {},
   "outputs": [],
   "source": []
  },
  {
   "cell_type": "code",
   "execution_count": null,
   "id": "9b70758a-25ff-4db3-9899-f5fcedfbf49f",
   "metadata": {},
   "outputs": [],
   "source": []
  }
 ],
 "metadata": {
  "kernelspec": {
   "display_name": "Python 3 (ipykernel)",
   "language": "python",
   "name": "python3"
  },
  "language_info": {
   "codemirror_mode": {
    "name": "ipython",
    "version": 3
   },
   "file_extension": ".py",
   "mimetype": "text/x-python",
   "name": "python",
   "nbconvert_exporter": "python",
   "pygments_lexer": "ipython3",
   "version": "3.11.9"
  }
 },
 "nbformat": 4,
 "nbformat_minor": 5
}
