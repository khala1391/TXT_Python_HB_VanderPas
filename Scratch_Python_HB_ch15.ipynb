{
 "cells": [
  {
   "cell_type": "markdown",
   "id": "78600f53-4876-499a-b935-b19b60b486fc",
   "metadata": {},
   "source": [
    "## Chapter15: Operating on Data in Pandas"
   ]
  },
  {
   "cell_type": "markdown",
   "id": "fff00d05-a66e-4d06-9a46-f1dbaa57f1e6",
   "metadata": {},
   "source": [
    "---\n",
    "* Author:  [Yuttapong Mahasittiwat](mailto:khala1391@gmail.com)\n",
    "* Technologist | Data Modeler | Data Analyst\n",
    "* [YouTube](https://www.youtube.com/khala1391)\n",
    "* [LinkedIn](https://www.linkedin.com/in/yuttapong-m/)\n",
    "---"
   ]
  },
  {
   "cell_type": "markdown",
   "id": "af1c295b-6121-41f4-af08-4f7adcd5b1cc",
   "metadata": {},
   "source": [
    "Source: [**Python Data Science Handbook** by **VanderPlas**](https://jakevdp.github.io/PythonDataScienceHandbook/)"
   ]
  },
  {
   "cell_type": "code",
   "execution_count": 5,
   "id": "e98e2ee5-6195-473c-940f-457ba91930a9",
   "metadata": {},
   "outputs": [
    {
     "name": "stdout",
     "output_type": "stream",
     "text": [
      "numpy version : 1.26.4\n",
      "pandas version : 2.2.1\n"
     ]
    }
   ],
   "source": [
    "import numpy as np\n",
    "import pandas as pd\n",
    "print(\"numpy version :\",np.__version__)\n",
    "print(\"pandas version :\",pd.__version__)"
   ]
  },
  {
   "cell_type": "markdown",
   "id": "439cf8cb-abb4-46ee-84f2-c9bd7a7efa8e",
   "metadata": {},
   "source": [
    "## Ufuncs: index preservation"
   ]
  },
  {
   "cell_type": "code",
   "execution_count": null,
   "id": "63627592-b215-4dc0-978e-8c69fcc5c66a",
   "metadata": {},
   "outputs": [],
   "source": []
  },
  {
   "cell_type": "code",
   "execution_count": null,
   "id": "914b7656-5413-48b6-8a3f-edac535ddc48",
   "metadata": {},
   "outputs": [],
   "source": []
  },
  {
   "cell_type": "markdown",
   "id": "72f55711-971d-42d1-b235-322421b98875",
   "metadata": {},
   "source": [
    "## Ufuncs: index alignment"
   ]
  },
  {
   "cell_type": "markdown",
   "id": "4bbfc074-16b0-499b-81e4-32322b084f60",
   "metadata": {},
   "source": [
    "### index alignment in series"
   ]
  },
  {
   "cell_type": "code",
   "execution_count": null,
   "id": "fe5967ca-3b1d-46ac-b9d2-cd8a7c4aec67",
   "metadata": {},
   "outputs": [],
   "source": []
  },
  {
   "cell_type": "code",
   "execution_count": null,
   "id": "2b2a48a1-f4e5-4976-a4e1-3cb7c6f199bf",
   "metadata": {},
   "outputs": [],
   "source": []
  },
  {
   "cell_type": "markdown",
   "id": "1bfb6365-d7db-408d-b12b-df7f7ac0b860",
   "metadata": {},
   "source": [
    "### index alignment in dataframes"
   ]
  },
  {
   "cell_type": "code",
   "execution_count": null,
   "id": "e53ec125-3f61-44bb-9fa4-155a0f1762c8",
   "metadata": {},
   "outputs": [],
   "source": []
  },
  {
   "cell_type": "code",
   "execution_count": null,
   "id": "7ced47eb-bf64-495a-a649-3a0647914171",
   "metadata": {},
   "outputs": [],
   "source": []
  },
  {
   "cell_type": "code",
   "execution_count": null,
   "id": "40b3735e-a763-4024-b4c7-bd0570a7791e",
   "metadata": {},
   "outputs": [],
   "source": []
  },
  {
   "cell_type": "code",
   "execution_count": null,
   "id": "a7b551e6-3577-4196-9c31-611fea0840cb",
   "metadata": {},
   "outputs": [],
   "source": []
  },
  {
   "cell_type": "markdown",
   "id": "d4e5bce8-1d83-4342-ad13-45e97c9c59a1",
   "metadata": {},
   "source": [
    "## Ufuncs: operations between dataframes and series"
   ]
  },
  {
   "cell_type": "code",
   "execution_count": null,
   "id": "6cdf6bd2-e6ba-47d8-a6b3-617b4647b479",
   "metadata": {},
   "outputs": [],
   "source": []
  },
  {
   "cell_type": "code",
   "execution_count": null,
   "id": "330e59aa-0047-4da2-87c9-d65718bd5841",
   "metadata": {},
   "outputs": [],
   "source": []
  },
  {
   "cell_type": "code",
   "execution_count": null,
   "id": "9d8f3641-50c6-42a9-bf99-5b159d5be3b3",
   "metadata": {},
   "outputs": [],
   "source": []
  },
  {
   "cell_type": "code",
   "execution_count": null,
   "id": "c1fea424-18f7-47da-88c1-2fa508cc38e7",
   "metadata": {},
   "outputs": [],
   "source": []
  },
  {
   "cell_type": "code",
   "execution_count": null,
   "id": "6b0960d7-55f6-4509-b05f-e62c96ceb86c",
   "metadata": {},
   "outputs": [],
   "source": []
  },
  {
   "cell_type": "code",
   "execution_count": null,
   "id": "ced6f0df-b382-4d34-981e-0e7cb0bae333",
   "metadata": {},
   "outputs": [],
   "source": []
  },
  {
   "cell_type": "markdown",
   "id": "8d64ef6f-c24b-4c08-992d-a0958aa73484",
   "metadata": {},
   "source": [
    "###"
   ]
  },
  {
   "cell_type": "markdown",
   "id": "bcfa3fb4-a4b3-4ad7-9029-f469cf941365",
   "metadata": {},
   "source": [
    "###"
   ]
  }
 ],
 "metadata": {
  "kernelspec": {
   "display_name": "Python 3 (ipykernel)",
   "language": "python",
   "name": "python3"
  },
  "language_info": {
   "codemirror_mode": {
    "name": "ipython",
    "version": 3
   },
   "file_extension": ".py",
   "mimetype": "text/x-python",
   "name": "python",
   "nbconvert_exporter": "python",
   "pygments_lexer": "ipython3",
   "version": "3.11.9"
  }
 },
 "nbformat": 4,
 "nbformat_minor": 5
}
