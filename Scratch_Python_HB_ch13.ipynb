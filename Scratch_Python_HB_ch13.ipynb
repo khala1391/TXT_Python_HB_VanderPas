{
 "cells": [
  {
   "cell_type": "markdown",
   "id": "acb3040e-f760-4373-bb9a-e9fa666ac90b",
   "metadata": {},
   "source": [
    "## Chapter13: Pandas Objects"
   ]
  },
  {
   "cell_type": "markdown",
   "id": "0af5a5b9-8d01-46b9-93d9-3525460cc47c",
   "metadata": {},
   "source": [
    "---\n",
    "* Author:  [Yuttapong Mahasittiwat](mailto:khala1391@gmail.com)\n",
    "* Technologist | Data Modeler | Data Analyst\n",
    "* [YouTube](https://www.youtube.com/khala1391)\n",
    "* [LinkedIn](https://www.linkedin.com/in/yuttapong-m/)\n",
    "---"
   ]
  },
  {
   "cell_type": "markdown",
   "id": "5b93dea0-443c-4b70-909d-450ead5f1d57",
   "metadata": {},
   "source": [
    "Source: [**Python Data Science Handbook** by **VanderPlas**](https://jakevdp.github.io/PythonDataScienceHandbook/)"
   ]
  },
  {
   "cell_type": "code",
   "execution_count": 5,
   "id": "aac4e3da-0030-427e-8414-146846b46b42",
   "metadata": {},
   "outputs": [
    {
     "name": "stdout",
     "output_type": "stream",
     "text": [
      "numpy version : 1.26.4\n",
      "pandas version : 2.2.1\n"
     ]
    }
   ],
   "source": [
    "import numpy as np\n",
    "import pandas as pd\n",
    "print(\"numpy version :\",np.__version__)\n",
    "print(\"pandas version :\",pd.__version__)"
   ]
  },
  {
   "cell_type": "markdown",
   "id": "f707bda7-73fb-4a0e-a22b-c4bfb1b76928",
   "metadata": {},
   "source": [
    "### Pandas Series Object "
   ]
  },
  {
   "cell_type": "code",
   "execution_count": 10,
   "id": "8c6cebdd-8004-43cd-b7a6-dca5f073210c",
   "metadata": {},
   "outputs": [
    {
     "data": {
      "text/plain": [
       "0    0.25\n",
       "1    0.50\n",
       "2    0.75\n",
       "3    1.00\n",
       "dtype: float64"
      ]
     },
     "execution_count": 10,
     "metadata": {},
     "output_type": "execute_result"
    }
   ],
   "source": [
    "data = pd.Series([.25,.5,.75,1.])\n",
    "data"
   ]
  },
  {
   "cell_type": "code",
   "execution_count": 28,
   "id": "50343e6e-bb7f-4856-aa10-a43f91533def",
   "metadata": {},
   "outputs": [
    {
     "data": {
      "text/plain": [
       "RangeIndex(start=0, stop=4, step=1)"
      ]
     },
     "execution_count": 28,
     "metadata": {},
     "output_type": "execute_result"
    }
   ],
   "source": [
    "# type(data)\n",
    "# pd.Series.*?\n",
    "data.index"
   ]
  },
  {
   "cell_type": "code",
   "execution_count": 32,
   "id": "5c482c14-f896-48b0-b289-288358dd7258",
   "metadata": {},
   "outputs": [
    {
     "data": {
      "text/plain": [
       "0.5"
      ]
     },
     "execution_count": 32,
     "metadata": {},
     "output_type": "execute_result"
    }
   ],
   "source": [
    "data[1]"
   ]
  },
  {
   "cell_type": "code",
   "execution_count": 34,
   "id": "cccbd503-43dc-429f-8e42-475be1032fdb",
   "metadata": {},
   "outputs": [
    {
     "data": {
      "text/plain": [
       "1    0.50\n",
       "2    0.75\n",
       "dtype: float64"
      ]
     },
     "execution_count": 34,
     "metadata": {},
     "output_type": "execute_result"
    }
   ],
   "source": [
    "data[1:3]"
   ]
  },
  {
   "cell_type": "markdown",
   "id": "ba6361e7-c20c-4eab-99e0-0b6623b0d384",
   "metadata": {},
   "source": [
    "#### series as generalized numpy array"
   ]
  },
  {
   "cell_type": "code",
   "execution_count": null,
   "id": "a7078205-238a-4d9e-91e8-4dd7582f98a9",
   "metadata": {},
   "outputs": [],
   "source": []
  },
  {
   "cell_type": "code",
   "execution_count": null,
   "id": "d146ff8b-e433-44ff-a3b2-d74688c124ef",
   "metadata": {},
   "outputs": [],
   "source": []
  },
  {
   "cell_type": "code",
   "execution_count": null,
   "id": "7e6bb440-8868-48a2-b1ee-1b2f4eface7d",
   "metadata": {},
   "outputs": [],
   "source": []
  },
  {
   "cell_type": "code",
   "execution_count": null,
   "id": "d1d1d2d1-4af4-4519-a42a-04d0303c779b",
   "metadata": {},
   "outputs": [],
   "source": []
  },
  {
   "cell_type": "markdown",
   "id": "5a1e35cb-e36c-47c9-bb72-343f53ad9484",
   "metadata": {},
   "source": [
    "#### Series as Specialized Dictionary"
   ]
  },
  {
   "cell_type": "code",
   "execution_count": null,
   "id": "ab3b74a5-54dd-4cee-ba7f-ab6ab287d91e",
   "metadata": {},
   "outputs": [],
   "source": []
  },
  {
   "cell_type": "code",
   "execution_count": null,
   "id": "b6c19295-5b83-40b7-9693-667adec5a867",
   "metadata": {},
   "outputs": [],
   "source": []
  },
  {
   "cell_type": "code",
   "execution_count": null,
   "id": "ad10549a-6997-4fe3-a394-8ef8aa7c3290",
   "metadata": {},
   "outputs": [],
   "source": []
  },
  {
   "cell_type": "markdown",
   "id": "5cfc3071-b63c-4db7-82b8-f1b261b32c33",
   "metadata": {},
   "source": [
    "#### Constructing Series Objects"
   ]
  },
  {
   "cell_type": "code",
   "execution_count": null,
   "id": "87fbf610-b9e6-40a8-89d6-0e295e905eb8",
   "metadata": {},
   "outputs": [],
   "source": []
  },
  {
   "cell_type": "code",
   "execution_count": null,
   "id": "4d1c15ca-517e-4581-b482-c79d2cac790e",
   "metadata": {},
   "outputs": [],
   "source": []
  },
  {
   "cell_type": "code",
   "execution_count": null,
   "id": "7ce4b223-94e9-4786-a043-12e7429ab765",
   "metadata": {},
   "outputs": [],
   "source": []
  },
  {
   "cell_type": "code",
   "execution_count": null,
   "id": "c0e7f4d6-c9e6-4377-8248-8e60b2d48273",
   "metadata": {},
   "outputs": [],
   "source": []
  },
  {
   "cell_type": "markdown",
   "id": "02f4ddc5-a47f-4120-b828-b1083b6da082",
   "metadata": {},
   "source": [
    "### Pandas Dataframe Object"
   ]
  },
  {
   "cell_type": "markdown",
   "id": "4fa694c5-492b-4299-b179-ce7acd5d91c1",
   "metadata": {},
   "source": [
    "#### Dataframe as generalized numpy array"
   ]
  },
  {
   "cell_type": "code",
   "execution_count": null,
   "id": "46304167-155f-49c9-9d47-50fe2a414d41",
   "metadata": {},
   "outputs": [],
   "source": []
  },
  {
   "cell_type": "code",
   "execution_count": null,
   "id": "00f76031-576c-4c51-ba78-958049fcdc71",
   "metadata": {},
   "outputs": [],
   "source": []
  },
  {
   "cell_type": "code",
   "execution_count": null,
   "id": "10c98872-5a22-4f80-ab64-a5123e5a15a8",
   "metadata": {},
   "outputs": [],
   "source": []
  },
  {
   "cell_type": "markdown",
   "id": "7496abfa-5475-47ec-9f3c-ef529f10a857",
   "metadata": {},
   "source": [
    "#### Dataframe as specialized dictionary"
   ]
  },
  {
   "cell_type": "code",
   "execution_count": null,
   "id": "725f1d27-d222-4fcf-9820-d9205092c968",
   "metadata": {},
   "outputs": [],
   "source": []
  },
  {
   "cell_type": "code",
   "execution_count": null,
   "id": "a380c594-1227-4139-84b1-64559381a94d",
   "metadata": {},
   "outputs": [],
   "source": []
  },
  {
   "cell_type": "code",
   "execution_count": null,
   "id": "30047650-4d85-474e-8b8f-2add92704d06",
   "metadata": {},
   "outputs": [],
   "source": []
  },
  {
   "cell_type": "markdown",
   "id": "d31ba463-313c-4168-8efc-271275e56572",
   "metadata": {},
   "source": [
    "#### constructing dataframe objects"
   ]
  },
  {
   "cell_type": "code",
   "execution_count": null,
   "id": "9e2c6457-3c67-48b5-8a61-625b1596bce5",
   "metadata": {},
   "outputs": [],
   "source": []
  },
  {
   "cell_type": "code",
   "execution_count": null,
   "id": "19914430-9ca0-4568-aa73-50bedeb143bf",
   "metadata": {},
   "outputs": [],
   "source": []
  },
  {
   "cell_type": "markdown",
   "id": "33ae94ff-4151-4e0a-9c17-072e5baa3b24",
   "metadata": {},
   "source": [
    "#### Dataframe as generalized numpy array"
   ]
  },
  {
   "cell_type": "code",
   "execution_count": null,
   "id": "8605c35a-62ea-498c-a24c-d0e08f2489ca",
   "metadata": {},
   "outputs": [],
   "source": []
  },
  {
   "cell_type": "code",
   "execution_count": null,
   "id": "bc0e7325-5677-44c8-a067-ecca0d841a56",
   "metadata": {},
   "outputs": [],
   "source": []
  },
  {
   "cell_type": "markdown",
   "id": "fd29ed57-3343-43a7-bdc8-fc81275708c4",
   "metadata": {},
   "source": [
    "#### Dataframe as generalized numpy array"
   ]
  },
  {
   "cell_type": "markdown",
   "id": "ac57a989-608d-4dd6-b1e1-926284f68eb4",
   "metadata": {},
   "source": [
    "##### from single series object "
   ]
  },
  {
   "cell_type": "code",
   "execution_count": null,
   "id": "9e5d432e-944b-480a-9c50-b238f4631494",
   "metadata": {},
   "outputs": [],
   "source": []
  },
  {
   "cell_type": "code",
   "execution_count": null,
   "id": "43f1b2bc-e525-45f5-8f3e-d82b34c9e1f9",
   "metadata": {},
   "outputs": [],
   "source": []
  },
  {
   "cell_type": "markdown",
   "id": "a131c92c-23f5-40ad-a820-13b67983eae9",
   "metadata": {},
   "source": [
    "##### from list of dicts"
   ]
  },
  {
   "cell_type": "code",
   "execution_count": null,
   "id": "b6345899-a25f-4367-a713-5aa91f4ff4a1",
   "metadata": {},
   "outputs": [],
   "source": []
  },
  {
   "cell_type": "code",
   "execution_count": null,
   "id": "40635c12-c1bf-4cb1-bb31-83b83ec0b96b",
   "metadata": {},
   "outputs": [],
   "source": []
  },
  {
   "cell_type": "markdown",
   "id": "60f26bb9-1e17-4811-86cc-2780ec69d736",
   "metadata": {},
   "source": [
    "##### from dictionary of series objects"
   ]
  },
  {
   "cell_type": "code",
   "execution_count": null,
   "id": "292ca3bd-4aec-4eaa-a601-300332d01581",
   "metadata": {},
   "outputs": [],
   "source": []
  },
  {
   "cell_type": "code",
   "execution_count": null,
   "id": "6199c2e5-c0b5-422c-a610-7d8c611e932a",
   "metadata": {},
   "outputs": [],
   "source": []
  },
  {
   "cell_type": "markdown",
   "id": "b83e2871-d05b-48f4-a9d5-30aabe4f44d1",
   "metadata": {},
   "source": [
    "##### from two-dimensional numpy array"
   ]
  },
  {
   "cell_type": "code",
   "execution_count": null,
   "id": "cbcf6931-c581-4b43-8505-5c3141f75bc6",
   "metadata": {},
   "outputs": [],
   "source": []
  },
  {
   "cell_type": "code",
   "execution_count": null,
   "id": "7ddd04c8-eb04-4e2e-a4f3-3a101842a807",
   "metadata": {},
   "outputs": [],
   "source": []
  },
  {
   "cell_type": "markdown",
   "id": "20c7ceac-8a2a-4055-bf93-d806528d688b",
   "metadata": {},
   "source": [
    "##### from numpy structured array"
   ]
  },
  {
   "cell_type": "code",
   "execution_count": null,
   "id": "dbb616bc-880f-40c6-b587-52a74c929bd9",
   "metadata": {},
   "outputs": [],
   "source": []
  },
  {
   "cell_type": "markdown",
   "id": "c6514e9a-2d4a-41fb-9d5c-c412ec7ae596",
   "metadata": {},
   "source": [
    "## pandas index object"
   ]
  },
  {
   "cell_type": "code",
   "execution_count": null,
   "id": "ca2ab746-7359-4499-9a60-ed8487069778",
   "metadata": {},
   "outputs": [],
   "source": []
  },
  {
   "cell_type": "markdown",
   "id": "9518f607-adfa-4351-a51a-37038413f0c8",
   "metadata": {},
   "source": [
    "### index as immutable array"
   ]
  },
  {
   "cell_type": "markdown",
   "id": "b1586483-8172-49f8-bc0a-14737b0f2c16",
   "metadata": {},
   "source": [
    "### index as ordered set "
   ]
  },
  {
   "cell_type": "markdown",
   "id": "c3ef4a02-cb28-45be-a7b9-be8972a912dd",
   "metadata": {},
   "source": []
  },
  {
   "cell_type": "markdown",
   "id": "b6e366c5-538c-4434-995d-bfc198877e83",
   "metadata": {},
   "source": []
  }
 ],
 "metadata": {
  "kernelspec": {
   "display_name": "Python 3 (ipykernel)",
   "language": "python",
   "name": "python3"
  },
  "language_info": {
   "codemirror_mode": {
    "name": "ipython",
    "version": 3
   },
   "file_extension": ".py",
   "mimetype": "text/x-python",
   "name": "python",
   "nbconvert_exporter": "python",
   "pygments_lexer": "ipython3",
   "version": "3.11.9"
  }
 },
 "nbformat": 4,
 "nbformat_minor": 5
}
