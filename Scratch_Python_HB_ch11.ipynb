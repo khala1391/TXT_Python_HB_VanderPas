{
 "cells": [
  {
   "cell_type": "markdown",
   "id": "78600f53-4876-499a-b935-b19b60b486fc",
   "metadata": {},
   "source": [
    "## Chapter11: Sorting Arrays"
   ]
  },
  {
   "cell_type": "markdown",
   "id": "fff00d05-a66e-4d06-9a46-f1dbaa57f1e6",
   "metadata": {},
   "source": [
    "---\n",
    "* Author:  [Yuttapong Mahasittiwat](mailto:khala1391@gmail.com)\n",
    "* Technologist | Data Modeler | Data Analyst\n",
    "* [YouTube](https://www.youtube.com/khala1391)\n",
    "* [LinkedIn](https://www.linkedin.com/in/yuttapong-m/)\n",
    "---"
   ]
  },
  {
   "cell_type": "code",
   "execution_count": 7,
   "id": "e7d76c20-5160-4be9-bf45-d9de4d3b2c0c",
   "metadata": {},
   "outputs": [
    {
     "name": "stdout",
     "output_type": "stream",
     "text": [
      "numpy version : 1.26.4\n",
      "pandas version : 2.2.1\n"
     ]
    }
   ],
   "source": [
    "import numpy as np\n",
    "import pandas as pd\n",
    "print(\"numpy version :\",np.__version__)\n",
    "print(\"pandas version :\",pd.__version__)"
   ]
  },
  {
   "cell_type": "code",
   "execution_count": null,
   "id": "812f2602-d62a-4b17-92cc-3129a8c4fdc3",
   "metadata": {},
   "outputs": [],
   "source": []
  },
  {
   "cell_type": "code",
   "execution_count": null,
   "id": "36f3881b-34da-4fa9-aef1-20c693c19be7",
   "metadata": {},
   "outputs": [],
   "source": []
  },
  {
   "cell_type": "code",
   "execution_count": null,
   "id": "aa5127bd-9e13-410d-82a1-e0df25b4d3c5",
   "metadata": {},
   "outputs": [],
   "source": []
  },
  {
   "cell_type": "markdown",
   "id": "72f55711-971d-42d1-b235-322421b98875",
   "metadata": {},
   "source": [
    "## Fast Sorting: np.sort, np.argsort"
   ]
  },
  {
   "cell_type": "markdown",
   "id": "4bbfc074-16b0-499b-81e4-32322b084f60",
   "metadata": {},
   "source": [
    "### series as dictionary"
   ]
  },
  {
   "cell_type": "code",
   "execution_count": null,
   "id": "fe5967ca-3b1d-46ac-b9d2-cd8a7c4aec67",
   "metadata": {},
   "outputs": [],
   "source": []
  },
  {
   "cell_type": "code",
   "execution_count": null,
   "id": "2b2a48a1-f4e5-4976-a4e1-3cb7c6f199bf",
   "metadata": {},
   "outputs": [],
   "source": []
  },
  {
   "cell_type": "markdown",
   "id": "1bfb6365-d7db-408d-b12b-df7f7ac0b860",
   "metadata": {},
   "source": [
    "### series as 1D array"
   ]
  },
  {
   "cell_type": "code",
   "execution_count": null,
   "id": "e53ec125-3f61-44bb-9fa4-155a0f1762c8",
   "metadata": {},
   "outputs": [],
   "source": []
  },
  {
   "cell_type": "code",
   "execution_count": null,
   "id": "7ced47eb-bf64-495a-a649-3a0647914171",
   "metadata": {},
   "outputs": [],
   "source": []
  },
  {
   "cell_type": "markdown",
   "id": "2ceed879-bb37-4451-be48-aefe634e3400",
   "metadata": {},
   "source": [
    "### indexers: loc and iloc"
   ]
  },
  {
   "cell_type": "code",
   "execution_count": null,
   "id": "40b3735e-a763-4024-b4c7-bd0570a7791e",
   "metadata": {},
   "outputs": [],
   "source": []
  },
  {
   "cell_type": "code",
   "execution_count": null,
   "id": "a7b551e6-3577-4196-9c31-611fea0840cb",
   "metadata": {},
   "outputs": [],
   "source": []
  },
  {
   "cell_type": "markdown",
   "id": "d4e5bce8-1d83-4342-ad13-45e97c9c59a1",
   "metadata": {},
   "source": [
    "## Data Selection in DataFrames"
   ]
  },
  {
   "cell_type": "markdown",
   "id": "9847b4de-c5da-475c-bfc6-04ecb97c5749",
   "metadata": {},
   "source": [
    "### dataframe as dictionary"
   ]
  },
  {
   "cell_type": "code",
   "execution_count": null,
   "id": "6cdf6bd2-e6ba-47d8-a6b3-617b4647b479",
   "metadata": {},
   "outputs": [],
   "source": []
  },
  {
   "cell_type": "code",
   "execution_count": null,
   "id": "330e59aa-0047-4da2-87c9-d65718bd5841",
   "metadata": {},
   "outputs": [],
   "source": []
  },
  {
   "cell_type": "markdown",
   "id": "0716d57e-6dd5-43eb-a1f4-5c7f66e8b23b",
   "metadata": {},
   "source": [
    "### dataframe as 2d array"
   ]
  },
  {
   "cell_type": "code",
   "execution_count": null,
   "id": "9d8f3641-50c6-42a9-bf99-5b159d5be3b3",
   "metadata": {},
   "outputs": [],
   "source": []
  },
  {
   "cell_type": "code",
   "execution_count": null,
   "id": "c1fea424-18f7-47da-88c1-2fa508cc38e7",
   "metadata": {},
   "outputs": [],
   "source": []
  },
  {
   "cell_type": "markdown",
   "id": "fd79e9b4-1372-42d8-858d-26463a7f0e69",
   "metadata": {},
   "source": [
    "### additional indexing conventions"
   ]
  },
  {
   "cell_type": "code",
   "execution_count": null,
   "id": "6b0960d7-55f6-4509-b05f-e62c96ceb86c",
   "metadata": {},
   "outputs": [],
   "source": []
  },
  {
   "cell_type": "code",
   "execution_count": null,
   "id": "ced6f0df-b382-4d34-981e-0e7cb0bae333",
   "metadata": {},
   "outputs": [],
   "source": []
  },
  {
   "cell_type": "markdown",
   "id": "8d64ef6f-c24b-4c08-992d-a0958aa73484",
   "metadata": {},
   "source": [
    "###"
   ]
  },
  {
   "cell_type": "markdown",
   "id": "bcfa3fb4-a4b3-4ad7-9029-f469cf941365",
   "metadata": {},
   "source": [
    "###"
   ]
  }
 ],
 "metadata": {
  "kernelspec": {
   "display_name": "Python 3 (ipykernel)",
   "language": "python",
   "name": "python3"
  },
  "language_info": {
   "codemirror_mode": {
    "name": "ipython",
    "version": 3
   },
   "file_extension": ".py",
   "mimetype": "text/x-python",
   "name": "python",
   "nbconvert_exporter": "python",
   "pygments_lexer": "ipython3",
   "version": "3.11.9"
  }
 },
 "nbformat": 4,
 "nbformat_minor": 5
}
