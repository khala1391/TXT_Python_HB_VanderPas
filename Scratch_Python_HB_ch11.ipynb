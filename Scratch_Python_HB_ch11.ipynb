{
 "cells": [
  {
   "cell_type": "markdown",
   "id": "78600f53-4876-499a-b935-b19b60b486fc",
   "metadata": {},
   "source": [
    "## Chapter11: Sorting Arrays"
   ]
  },
  {
   "cell_type": "markdown",
   "id": "fff00d05-a66e-4d06-9a46-f1dbaa57f1e6",
   "metadata": {},
   "source": [
    "---\n",
    "* Author:  [Yuttapong Mahasittiwat](mailto:khala1391@gmail.com)\n",
    "* Technologist | Data Modeler | Data Analyst\n",
    "* [YouTube](https://www.youtube.com/khala1391)\n",
    "* [LinkedIn](https://www.linkedin.com/in/yuttapong-m/)\n",
    "---"
   ]
  },
  {
   "cell_type": "markdown",
   "id": "c4f7cced-f827-4f11-ae98-9afef163e8a7",
   "metadata": {},
   "source": [
    "Source: [**Python Data Science Handbook** by **VanderPlas**](https://jakevdp.github.io/PythonDataScienceHandbook/)"
   ]
  },
  {
   "cell_type": "code",
   "execution_count": 2,
   "id": "e7d76c20-5160-4be9-bf45-d9de4d3b2c0c",
   "metadata": {},
   "outputs": [
    {
     "name": "stdout",
     "output_type": "stream",
     "text": [
      "numpy version : 1.26.4\n",
      "pandas version : 2.2.1\n"
     ]
    }
   ],
   "source": [
    "import numpy as np\n",
    "import pandas as pd\n",
    "print(\"numpy version :\",np.__version__)\n",
    "print(\"pandas version :\",pd.__version__)"
   ]
  },
  {
   "cell_type": "code",
   "execution_count": 6,
   "id": "812f2602-d62a-4b17-92cc-3129a8c4fdc3",
   "metadata": {},
   "outputs": [
    {
     "data": {
      "text/plain": [
       "[1, 1, 2, 3, 4, 5, 6, 9]"
      ]
     },
     "execution_count": 6,
     "metadata": {},
     "output_type": "execute_result"
    }
   ],
   "source": [
    "L = [3,1,4,1,5,9,2,6]\n",
    "sorted(L)  # sorted copy"
   ]
  },
  {
   "cell_type": "code",
   "execution_count": 10,
   "id": "aa5127bd-9e13-410d-82a1-e0df25b4d3c5",
   "metadata": {},
   "outputs": [
    {
     "data": {
      "text/plain": [
       "[1, 1, 2, 3, 4, 5, 6, 9]"
      ]
     },
     "execution_count": 10,
     "metadata": {},
     "output_type": "execute_result"
    }
   ],
   "source": [
    "L.sort()  # acts in-place, return None\n",
    "L"
   ]
  },
  {
   "cell_type": "code",
   "execution_count": 12,
   "id": "429583c5-f126-4881-bf99-f56f33ff8b6f",
   "metadata": {},
   "outputs": [
    {
     "data": {
      "text/plain": [
       "['P', 'h', 'n', 'o', 't', 'y']"
      ]
     },
     "execution_count": 12,
     "metadata": {},
     "output_type": "execute_result"
    }
   ],
   "source": [
    "sorted('Python')"
   ]
  },
  {
   "cell_type": "markdown",
   "id": "72f55711-971d-42d1-b235-322421b98875",
   "metadata": {},
   "source": [
    "## Fast Sorting: np.sort, np.argsort"
   ]
  },
  {
   "cell_type": "code",
   "execution_count": 14,
   "id": "fe5967ca-3b1d-46ac-b9d2-cd8a7c4aec67",
   "metadata": {},
   "outputs": [
    {
     "data": {
      "text/plain": [
       "array([1, 2, 3, 4, 5])"
      ]
     },
     "execution_count": 14,
     "metadata": {},
     "output_type": "execute_result"
    }
   ],
   "source": [
    "x = np.array([2,1,4,3,5])\n",
    "np.sort(x)  # sorted copy"
   ]
  },
  {
   "cell_type": "code",
   "execution_count": 20,
   "id": "615388a1-6380-4c2f-9355-0a05d05c1866",
   "metadata": {},
   "outputs": [
    {
     "data": {
      "text/plain": [
       "array([1, 2, 3, 4, 5])"
      ]
     },
     "execution_count": 20,
     "metadata": {},
     "output_type": "execute_result"
    }
   ],
   "source": [
    "# python built-in function\n",
    "x.sort()\n",
    "x"
   ]
  },
  {
   "cell_type": "code",
   "execution_count": 22,
   "id": "ba2b5e1b-dd41-404e-9740-c62daf6cf0a9",
   "metadata": {},
   "outputs": [
    {
     "data": {
      "text/plain": [
       "array([1, 0, 3, 2, 4], dtype=int64)"
      ]
     },
     "execution_count": 22,
     "metadata": {},
     "output_type": "execute_result"
    }
   ],
   "source": [
    "# argsort return indices\n",
    "x = np.array([2,1,4,3,5])\n",
    "i = np.argsort(x)\n",
    "i"
   ]
  },
  {
   "cell_type": "code",
   "execution_count": 24,
   "id": "e53ec125-3f61-44bb-9fa4-155a0f1762c8",
   "metadata": {},
   "outputs": [
    {
     "data": {
      "text/plain": [
       "array([1, 2, 3, 4, 5])"
      ]
     },
     "execution_count": 24,
     "metadata": {},
     "output_type": "execute_result"
    }
   ],
   "source": [
    "x[i]  # fancy indexing"
   ]
  },
  {
   "cell_type": "markdown",
   "id": "d4e5bce8-1d83-4342-ad13-45e97c9c59a1",
   "metadata": {},
   "source": [
    "## sorting along rows or columns"
   ]
  },
  {
   "cell_type": "code",
   "execution_count": 38,
   "id": "7ced47eb-bf64-495a-a649-3a0647914171",
   "metadata": {},
   "outputs": [
    {
     "data": {
      "text/plain": [
       "array([[0, 7, 6, 4, 4, 8],\n",
       "       [0, 6, 2, 0, 5, 9],\n",
       "       [7, 7, 7, 7, 5, 1],\n",
       "       [8, 4, 5, 3, 1, 9]], dtype=int64)"
      ]
     },
     "execution_count": 38,
     "metadata": {},
     "output_type": "execute_result"
    }
   ],
   "source": [
    "rng = np.random.default_rng(seed=42)\n",
    "X = rng.integers(0,10,(4,6))\n",
    "X"
   ]
  },
  {
   "cell_type": "code",
   "execution_count": 40,
   "id": "40b3735e-a763-4024-b4c7-bd0570a7791e",
   "metadata": {},
   "outputs": [
    {
     "data": {
      "text/plain": [
       "array([[0, 4, 2, 0, 1, 1],\n",
       "       [0, 6, 5, 3, 4, 8],\n",
       "       [7, 7, 6, 4, 5, 9],\n",
       "       [8, 7, 7, 7, 5, 9]], dtype=int64)"
      ]
     },
     "execution_count": 40,
     "metadata": {},
     "output_type": "execute_result"
    }
   ],
   "source": [
    "# sort each column\n",
    "np.sort(X, axis=0)"
   ]
  },
  {
   "cell_type": "code",
   "execution_count": 42,
   "id": "a7b551e6-3577-4196-9c31-611fea0840cb",
   "metadata": {},
   "outputs": [
    {
     "data": {
      "text/plain": [
       "array([[0, 4, 4, 6, 7, 8],\n",
       "       [0, 0, 2, 5, 6, 9],\n",
       "       [1, 5, 7, 7, 7, 7],\n",
       "       [1, 3, 4, 5, 8, 9]], dtype=int64)"
      ]
     },
     "execution_count": 42,
     "metadata": {},
     "output_type": "execute_result"
    }
   ],
   "source": [
    "# sort each row\n",
    "np.sort(X, axis=1)"
   ]
  },
  {
   "cell_type": "markdown",
   "id": "87c49c4a-f7d0-4139-ae23-797cbdd2f49d",
   "metadata": {},
   "source": [
    "## partial sorts: partitioning"
   ]
  },
  {
   "cell_type": "code",
   "execution_count": 36,
   "id": "330e59aa-0047-4da2-87c9-d65718bd5841",
   "metadata": {},
   "outputs": [
    {
     "data": {
      "text/plain": [
       "array([2, 1, 3, 4, 6, 5, 7])"
      ]
     },
     "execution_count": 36,
     "metadata": {},
     "output_type": "execute_result"
    }
   ],
   "source": [
    "x = np.array([7,2,3,1,6,5,4])\n",
    "np.partition(x,3)"
   ]
  },
  {
   "cell_type": "code",
   "execution_count": 46,
   "id": "c8e541dd-9774-4d9c-97d6-d1383b1b1eb3",
   "metadata": {},
   "outputs": [
    {
     "data": {
      "text/plain": [
       "array([[0, 4, 4, 7, 6, 8],\n",
       "       [0, 0, 2, 6, 5, 9],\n",
       "       [1, 5, 7, 7, 7, 7],\n",
       "       [1, 3, 4, 5, 8, 9]], dtype=int64)"
      ]
     },
     "execution_count": 46,
     "metadata": {},
     "output_type": "execute_result"
    }
   ],
   "source": [
    "np.partition(X,2,axis=1)  # partition by column"
   ]
  },
  {
   "cell_type": "code",
   "execution_count": 50,
   "id": "82c3d450-0cc6-49f2-8893-521c97c5ae11",
   "metadata": {},
   "outputs": [
    {
     "data": {
      "text/plain": [
       "array([[0, 4, 2, 0, 1, 1],\n",
       "       [0, 6, 5, 3, 4, 8],\n",
       "       [7, 7, 6, 4, 5, 9],\n",
       "       [8, 7, 7, 7, 5, 9]], dtype=int64)"
      ]
     },
     "execution_count": 50,
     "metadata": {},
     "output_type": "execute_result"
    }
   ],
   "source": [
    "np.partition(X,2,axis=0)  # partition by row"
   ]
  },
  {
   "cell_type": "markdown",
   "id": "1af6588b-100d-43b3-a710-640dc8016ef6",
   "metadata": {},
   "source": [
    "## example: k-nearest neighbors"
   ]
  },
  {
   "cell_type": "code",
   "execution_count": null,
   "id": "d375d62b-4bd9-4bb1-8fbb-581f0ca9666d",
   "metadata": {},
   "outputs": [],
   "source": []
  },
  {
   "cell_type": "code",
   "execution_count": null,
   "id": "9d8f3641-50c6-42a9-bf99-5b159d5be3b3",
   "metadata": {},
   "outputs": [],
   "source": []
  },
  {
   "cell_type": "code",
   "execution_count": null,
   "id": "c1fea424-18f7-47da-88c1-2fa508cc38e7",
   "metadata": {},
   "outputs": [],
   "source": []
  },
  {
   "cell_type": "code",
   "execution_count": null,
   "id": "6b0960d7-55f6-4509-b05f-e62c96ceb86c",
   "metadata": {},
   "outputs": [],
   "source": []
  },
  {
   "cell_type": "code",
   "execution_count": null,
   "id": "9a583772-c52a-416e-9d0e-608c2c0d764a",
   "metadata": {},
   "outputs": [],
   "source": []
  },
  {
   "cell_type": "code",
   "execution_count": null,
   "id": "4f8dd314-8a0a-4578-a070-99a75dc93cd2",
   "metadata": {},
   "outputs": [],
   "source": []
  },
  {
   "cell_type": "code",
   "execution_count": null,
   "id": "ced6f0df-b382-4d34-981e-0e7cb0bae333",
   "metadata": {},
   "outputs": [],
   "source": []
  },
  {
   "cell_type": "code",
   "execution_count": null,
   "id": "a7a01d18-50f8-425c-8227-7a4c420c2cf1",
   "metadata": {},
   "outputs": [],
   "source": []
  },
  {
   "cell_type": "code",
   "execution_count": null,
   "id": "9cb1ee9c-a333-4490-8dec-defa1456daff",
   "metadata": {},
   "outputs": [],
   "source": []
  },
  {
   "cell_type": "code",
   "execution_count": null,
   "id": "cedd1724-0186-40a2-b8eb-2f8fa1f8a21d",
   "metadata": {},
   "outputs": [],
   "source": []
  },
  {
   "cell_type": "code",
   "execution_count": null,
   "id": "f37dc1e0-3cb6-4237-912d-973f5472ce73",
   "metadata": {},
   "outputs": [],
   "source": []
  },
  {
   "cell_type": "code",
   "execution_count": null,
   "id": "a0477309-5784-4846-97ed-7736ddae00db",
   "metadata": {},
   "outputs": [],
   "source": []
  },
  {
   "cell_type": "code",
   "execution_count": null,
   "id": "399c5ba0-ae52-46c5-8fc7-4f98b6e6beb9",
   "metadata": {},
   "outputs": [],
   "source": []
  }
 ],
 "metadata": {
  "kernelspec": {
   "display_name": "Python 3 (ipykernel)",
   "language": "python",
   "name": "python3"
  },
  "language_info": {
   "codemirror_mode": {
    "name": "ipython",
    "version": 3
   },
   "file_extension": ".py",
   "mimetype": "text/x-python",
   "name": "python",
   "nbconvert_exporter": "python",
   "pygments_lexer": "ipython3",
   "version": "3.11.9"
  }
 },
 "nbformat": 4,
 "nbformat_minor": 5
}
